{
 "cells": [
  {
   "cell_type": "code",
   "execution_count": 11,
   "metadata": {},
   "outputs": [],
   "source": [
    "import pandas as pd\n",
    "import requests"
   ]
  },
  {
   "cell_type": "code",
   "execution_count": 3,
   "metadata": {},
   "outputs": [],
   "source": [
    "from src.data.cloud._constants import Cloud"
   ]
  },
  {
   "cell_type": "code",
   "execution_count": 20,
   "metadata": {},
   "outputs": [
    {
     "name": "stdout",
     "output_type": "stream",
     "text": [
      "alibaba\n",
      "aws\n",
      "azure\n",
      "digitalocean\n",
      "gcp\n",
      "ibm\n",
      "oracle\n"
     ]
    }
   ],
   "source": [
    "for c in [c.value.lower() for c in Cloud]:\n",
    "    df = pd.read_csv(f'../data/raw/{c}_services.csv')\n",
    "    df = df[['category_name', 'name', 'short_description', 'long_description']]\n",
    "    norm_cats = {}\n",
    "    for cat in df['category_name'].unique():\n",
    "        norm_cats[cat] = get_normalized_cat_name(c, cat)\n",
    "    df['category_name'] = df['category_name'].apply(lambda cat_name: norm_cats[cat_name])\n",
    "    df.to_csv(f'../data/processed/{c}_dedupe_data.csv', index=False)"
   ]
  },
  {
   "cell_type": "code",
   "execution_count": 15,
   "metadata": {},
   "outputs": [
    {
     "data": {
      "text/plain": [
       "'Networking & Content Delivery'"
      ]
     },
     "execution_count": 15,
     "metadata": {},
     "output_type": "execute_result"
    }
   ],
   "source": [
    "def get_normalized_cat_name(abbr, cat_name):\n",
    "    q = {\n",
    "        \"query\": f\"g.V().has('abbreviation', '{abbr}').in('source_cloud').has('name', '{cat_name}').out('super_category').values('name')\"\n",
    "    }\n",
    "    \n",
    "    res = requests.post('https://cloudconceptgraph.azure-api.net/gremlin', json=q)\n",
    "    data = res.json()\n",
    "    if len(data) == 1:\n",
    "        return data[0]\n",
    "    else:\n",
    "        return cat_name\n",
    "get_normalized_cat_name('ibm', 'Network')"
   ]
  },
  {
   "cell_type": "code",
   "execution_count": null,
   "metadata": {},
   "outputs": [],
   "source": []
  }
 ],
 "metadata": {
  "kernelspec": {
   "display_name": "Python 3",
   "language": "python",
   "name": "python3"
  },
  "language_info": {
   "codemirror_mode": {
    "name": "ipython",
    "version": 3
   },
   "file_extension": ".py",
   "mimetype": "text/x-python",
   "name": "python",
   "nbconvert_exporter": "python",
   "pygments_lexer": "ipython3",
   "version": "3.6.5"
  }
 },
 "nbformat": 4,
 "nbformat_minor": 2
}
