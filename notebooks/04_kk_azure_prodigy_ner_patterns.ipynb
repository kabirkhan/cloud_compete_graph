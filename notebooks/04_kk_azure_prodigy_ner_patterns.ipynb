{
 "cells": [
  {
   "cell_type": "code",
   "execution_count": 1,
   "metadata": {},
   "outputs": [],
   "source": [
    "import os\n",
    "import json\n",
    "from collections import defaultdict\n",
    "import pandas as pd\n",
    "from pathlib import Path\n",
    "import requests\n",
    "from dotenv import load_dotenv, find_dotenv\n",
    "import markdown\n",
    "from bs4 import BeautifulSoup"
   ]
  },
  {
   "cell_type": "code",
   "execution_count": 2,
   "metadata": {},
   "outputs": [],
   "source": [
    "from src.data.cosmos import GremlinQueryManager, DocumentQueryManager\n",
    "from src.data.graph.gremlin import GremlinQueryBuilder"
   ]
  },
  {
   "cell_type": "code",
   "execution_count": 3,
   "metadata": {},
   "outputs": [],
   "source": [
    "load_dotenv(find_dotenv())\n",
    "\n",
    "account_name = os.environ.get('COSMOS_ACCOUNT_NAME')\n",
    "db_name = os.environ.get('COSMOS_DB_NAME')\n",
    "graph_name = os.environ.get('COSMOS_GRAPH_NAME')\n",
    "master_key = os.environ.get('COSMOS_MASTER_KEY')\n",
    "\n",
    "gremlin_qm = GremlinQueryManager(account_name, master_key, db_name, graph_name)\n",
    "doc_qm = DocumentQueryManager(account_name, master_key, db_name)"
   ]
  },
  {
   "cell_type": "code",
   "execution_count": 4,
   "metadata": {},
   "outputs": [
    {
     "data": {
      "text/plain": [
       "140"
      ]
     },
     "execution_count": 4,
     "metadata": {},
     "output_type": "execute_result"
    }
   ],
   "source": [
    "azure_services = []\n",
    "\n",
    "# abbrs = gremlin_qm.query('g.V().has(\"label\", \"cloud\").values(\"abbreviation\")')\n",
    "# for abbr in abbrs:\n",
    "abbr = 'azure'\n",
    "q = f\"\"\"g.V().has(\"label\", \"{abbr}_service\")\n",
    "        .project(\"id\", \"name\", \"shortDescription\", \"longDescription\", \"uri\", \"iconUri\", \"categories\", \"relatedServices\")\n",
    "        .by(\"id\").by(\"name\").by(\"short_description\").by(\"long_description\").by(\"uri\").by(\"icon_uri\")\n",
    "        .by(out(\"belongs_to\").values(\"name\").fold())\n",
    "        .by(coalesce(out(\"related_service\").values(\"name\").fold(), __.not(identity()).fold()))\"\"\"\n",
    "cloud_data = gremlin_qm.query(q)\n",
    "azure_services += cloud_data\n",
    "    \n",
    "len(azure_services)"
   ]
  },
  {
   "cell_type": "code",
   "execution_count": 10,
   "metadata": {},
   "outputs": [
    {
     "data": {
      "text/plain": [
       "['Azure Batch AI', 'Azure Bot Service', 'Azure Databricks', 'Azure Search']"
      ]
     },
     "execution_count": 10,
     "metadata": {},
     "output_type": "execute_result"
    }
   ],
   "source": [
    "search_terms = [s['name'] for s in azure_services]\n",
    "search_terms"
   ]
  },
  {
   "cell_type": "code",
   "execution_count": 8,
   "metadata": {},
   "outputs": [],
   "source": [
    "patterns = []\n",
    "for s in azure_services:\n",
    "    pattern = []\n",
    "    n = s['name']\n",
    "    if '(' in n:\n",
    "        i = n.index('(')\n",
    "        abbr = n[i+1:n.index(')')]\n",
    "        patterns.append({\"label\": \"AZURE_SERVICE\", 'pattern': [{'LOWER': abbr.lower()}]})\n",
    "        n = n[:i]\n",
    "    for word in n.split():\n",
    "        pattern.append({'LOWER': word.lower()})\n",
    "    \n",
    "    patterns.append({'label': 'AZURE_SERVICE', 'pattern': pattern})\n",
    "    if pattern[0]['LOWER'] == 'azure':\n",
    "        patterns.append({'label': 'AZURE_SERVICE', 'pattern': pattern[1:]})\n",
    "    \n",
    "extra_patterns = [\n",
    "    {\"label\": \"AZURE_SERVICE\", \"pattern\": [{\"LOWER\": \"azure\"}, {\"IS_UPPER\": True}]},\n",
    "    {\"label\": \"AZURE_SERVICE\", \"pattern\": [{\"LOWER\": \"azure\"}, {\"IS_UPPER\": True}, {\"IS_UPPER\": True}]},\n",
    "    {\"label\": \"AZURE_SERVICE\", \"pattern\": [{\"LOWER\": \"azure\"}, {\"IS_UPPER\": True}, {\"IS_UPPER\": True}, {\"IS_UPPER\": True}]},\n",
    "    {\"label\": \"AZURE_SERVICE\", \"pattern\": [{\"LOWER\": \"azure\"}, {\"IS_UPPER\": True}, {\"IS_UPPER\": True}, {\"IS_UPPER\": True}, {\"IS_UPPER\": True}]},\n",
    "    {\"label\": \"AZURE_SERVICE\", \"pattern\": [{\"LOWER\": \"app\"}, {\"LOWER\": \"service\"}]},\n",
    "    {\"label\": \"AZURE_SERVICE\", \"pattern\": [{\"LOWER\": \"cognitive\"}, {\"LEMMA\": \"service\"}]},\n",
    "    {\"label\": \"AZURE_SERVICE\", \"pattern\": [{\"LOWER\": \"azure\"}, {\"LEMMA\": \"database\"}]},\n",
    "    {\"label\": \"AZURE_SERVICE\", \"pattern\": [{\"LOWER\": \"bing\"}, {\"IS_ALPHA\": True}, {\"LOWER\": \"search\"}]},\n",
    "    {\"label\": \"AZURE_SERVICE\", \"pattern\": [{\"LOWER\": \"face\"}, {\"IS_UPPER\": True}]},\n",
    "    {\"label\": \"AZURE_SERVICE\", \"pattern\": [{\"LOWER\": \"emotion\"}, {\"IS_UPPER\": True}]},\n",
    "    {\"label\": \"AZURE_SERVICE\", \"pattern\": [{\"LOWER\": \"aks\"}]},\n",
    "]\n",
    "\n",
    "with open('../data/processed/azure_service_patterns_v2.jsonl', 'w+') as azure_service_patterns_file:\n",
    "    for p in patterns + extra_patterns:\n",
    "        azure_service_patterns_file.write(json.dumps(p) + '\\n')"
   ]
  },
  {
   "cell_type": "code",
   "execution_count": null,
   "metadata": {},
   "outputs": [],
   "source": [
    "p = Path('/mnt/c/users/kakh/Documents/Innovation_Sprints/cookiecutters/skill_extractor/data')\n",
    "file_paths = list(p.glob('azure-docs/**/*index.md')) + list(p.glob('azure-docs/**/*overview.md'))\n",
    "file_paths = sorted(file_paths)\n"
   ]
  },
  {
   "cell_type": "code",
   "execution_count": 66,
   "metadata": {},
   "outputs": [
    {
     "name": "stdout",
     "output_type": "stream",
     "text": [
      "2645\n"
     ]
    }
   ],
   "source": [
    "def get_examples(file_paths, n_per_service=30):\n",
    "    def iter_examples(file_paths):\n",
    "        for path in file_paths:\n",
    "\n",
    "            with open(path) as md_file:\n",
    "                html = markdown.markdown(md_file.read())\n",
    "                soup = BeautifulSoup(html, 'html.parser')\n",
    "                meta = {\n",
    "                    'source': 'azure-docs',\n",
    "                    'file': str(path)[str(path).index('azure-docs'):]\n",
    "                }\n",
    "                for p in soup.find_all('p') + soup.find_all('h1') + soup.find_all('h2'):\n",
    "                    if 'ms.' not in p.text and '|' not in p.text:\n",
    "                        yield {'text': ' '.join(p.text.split()).strip(), 'meta': meta}\n",
    "\n",
    "\n",
    "    examples = []\n",
    "    service_map_counts = defaultdict(int)\n",
    "    for e in iter_examples(file_paths):\n",
    "        service_dir = e['meta']['file'].split('/')[2]\n",
    "\n",
    "        service_map_counts[service_dir] += 1\n",
    "\n",
    "        if service_map_counts[service_dir] > n_per_service:\n",
    "            continue\n",
    "        else:\n",
    "            examples.append(e)\n",
    "\n",
    "    print(len(examples))\n",
    "    return examples\n",
    "\n",
    "examples = get_examples(file_paths)"
   ]
  },
  {
   "cell_type": "code",
   "execution_count": 67,
   "metadata": {},
   "outputs": [],
   "source": [
    "with open('../data/processed/azure_examples.jsonl', 'w+') as azure_examples_file:\n",
    "    for e in examples:\n",
    "        azure_examples_file.write(json.dumps(e) + '\\n')"
   ]
  },
  {
   "cell_type": "code",
   "execution_count": null,
   "metadata": {},
   "outputs": [],
   "source": []
  }
 ],
 "metadata": {
  "kernelspec": {
   "display_name": "Python 3",
   "language": "python",
   "name": "python3"
  },
  "language_info": {
   "codemirror_mode": {
    "name": "ipython",
    "version": 3
   },
   "file_extension": ".py",
   "mimetype": "text/x-python",
   "name": "python",
   "nbconvert_exporter": "python",
   "pygments_lexer": "ipython3",
   "version": "3.6.5"
  }
 },
 "nbformat": 4,
 "nbformat_minor": 2
}
