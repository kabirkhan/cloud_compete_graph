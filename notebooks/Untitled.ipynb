{
 "cells": [
  {
   "cell_type": "code",
   "execution_count": 1,
   "metadata": {},
   "outputs": [],
   "source": [
    "import pandas as pd"
   ]
  },
  {
   "cell_type": "code",
   "execution_count": 5,
   "metadata": {},
   "outputs": [],
   "source": [
    "lines = []\n",
    "with open('/mnt/c/users/kakh/Downloads/TeamOpptyAssignment_wQualifier2.') as msx_file:\n",
    "    for i in range(10):\n",
    "        lines.append(msx_file.readline())"
   ]
  },
  {
   "cell_type": "code",
   "execution_count": 6,
   "metadata": {},
   "outputs": [
    {
     "data": {
      "text/plain": [
       "['\\ufeffAlias\\tCRMOpportunityID\\tPersonnelNumber\\tStandardTitle\\tQualifier2\\tIsOpportunityOwner\\tOwnershipFlag\\tOpportunityCreatedDate\\tOpportunityCloseDate\\tOpportunityCloseYear\\tOpportunityDueDate\\tOpportunityDueYear\\tMSXStatus\\tOpportunityCloseReason\\n',\n",
       " 'AEGGERER\\t7-NJKE6UWOM\\t151275\\tBusiness Program Manager\\tN/A\\t1\\tYes\\t05/15/2017\\t05/14/2217\\tNULL\\tNULL\\tN/A \\tLost\\tDuplicate Opportunity\\n',\n",
       " 'A-COBALA\\t1-16RJO1X\\t718150\\tXR - Account Management\\tN/A\\t1\\tYes\\t08/24/2014\\t12/29/2010\\tFY11\\t12/17/2010\\tFY11\\tWon\\tRelationship\\n',\n",
       " 'CHRISHEA\\t6-FGRSQ7Q7O\\t803510\\tAccount Executive\\tFinancial Services\\t0\\tNo\\t07/21/2014\\t07/15/2025\\tFY26\\t08/15/2025\\tFY26\\tLost\\tCustomer Cancelled\\n',\n",
       " 'AAALBREC\\t6-GM25YOPWT\\t513929\\tAccount Executive\\tManufacturing\\t1\\tYes\\t12/16/2014\\t12/28/2015\\tFY16\\t12/28/2015\\tFY16\\tWon\\tRelationship\\n',\n",
       " 'AGCARR\\t1-10BT1D5\\t436096\\tCloud Specialist\\tN/A\\t1\\tYes\\t03/03/2014\\t05/18/2010\\tFY10\\t05/27/2010\\tFY10\\tWon\\tRelationship\\n',\n",
       " 'AKONCKES\\t7-QQDEN4JPC\\t1253066\\tInside Account Executive\\tCorp Territory Managed\\t0\\tNo\\t06/28/2018\\t09/18/2019\\tFY20\\t09/18/2018\\tFY19\\tLost\\tCustomer Cancelled\\n',\n",
       " 'CHXIE\\t7-MOH3HASHN\\t821733\\tProgram Manager 2\\tN/A\\t0\\tNo\\t01/27/2017\\t02/25/2027\\tFY27\\t02/24/2017\\tFY17\\tWon\\tValue Proposition\\n',\n",
       " 'KOYAMADA\\t1-C981ZS\\t415230\\tSolution Specialist\\tAzure Apps & Infra\\t1\\tYes\\t08/24/2014\\t09/29/2005\\tFY06\\t06/30/2006\\tFY06\\tWon\\tRelationship\\n',\n",
       " 'PHILIPC\\t7-LAIXUNWJP\\t342856\\tSolution Sales Manager\\tAzure Apps & Infra\\t1\\tYes\\t07/29/2016\\t07/28/2021\\tFY22\\t03/30/2017\\tFY17\\tLost\\tDuplicate Opportunity\\n']"
      ]
     },
     "execution_count": 6,
     "metadata": {},
     "output_type": "execute_result"
    }
   ],
   "source": [
    "lines"
   ]
  },
  {
   "cell_type": "code",
   "execution_count": 10,
   "metadata": {},
   "outputs": [],
   "source": [
    "msx_data = pd.read_csv('/mnt/c/users/kakh/Downloads/msx_data.tsv', sep='\\t')"
   ]
  },
  {
   "cell_type": "code",
   "execution_count": 11,
   "metadata": {},
   "outputs": [
    {
     "data": {
      "text/html": [
       "<div>\n",
       "<style scoped>\n",
       "    .dataframe tbody tr th:only-of-type {\n",
       "        vertical-align: middle;\n",
       "    }\n",
       "\n",
       "    .dataframe tbody tr th {\n",
       "        vertical-align: top;\n",
       "    }\n",
       "\n",
       "    .dataframe thead th {\n",
       "        text-align: right;\n",
       "    }\n",
       "</style>\n",
       "<table border=\"1\" class=\"dataframe\">\n",
       "  <thead>\n",
       "    <tr style=\"text-align: right;\">\n",
       "      <th></th>\n",
       "      <th>Alias</th>\n",
       "      <th>CRMOpportunityID</th>\n",
       "      <th>PersonnelNumber</th>\n",
       "      <th>StandardTitle</th>\n",
       "      <th>Qualifier2</th>\n",
       "      <th>IsOpportunityOwner</th>\n",
       "      <th>OwnershipFlag</th>\n",
       "      <th>OpportunityCreatedDate</th>\n",
       "      <th>OpportunityCloseDate</th>\n",
       "      <th>OpportunityCloseYear</th>\n",
       "      <th>OpportunityDueDate</th>\n",
       "      <th>OpportunityDueYear</th>\n",
       "      <th>MSXStatus</th>\n",
       "      <th>OpportunityCloseReason</th>\n",
       "    </tr>\n",
       "  </thead>\n",
       "  <tbody>\n",
       "    <tr>\n",
       "      <th>0</th>\n",
       "      <td>AEGGERER</td>\n",
       "      <td>7-NJKE6UWOM</td>\n",
       "      <td>151275</td>\n",
       "      <td>Business Program Manager</td>\n",
       "      <td>NaN</td>\n",
       "      <td>1</td>\n",
       "      <td>Yes</td>\n",
       "      <td>05/15/2017</td>\n",
       "      <td>05/14/2217</td>\n",
       "      <td>NaN</td>\n",
       "      <td>NaN</td>\n",
       "      <td>N/A</td>\n",
       "      <td>Lost</td>\n",
       "      <td>Duplicate Opportunity</td>\n",
       "    </tr>\n",
       "    <tr>\n",
       "      <th>1</th>\n",
       "      <td>A-COBALA</td>\n",
       "      <td>1-16RJO1X</td>\n",
       "      <td>718150</td>\n",
       "      <td>XR - Account Management</td>\n",
       "      <td>NaN</td>\n",
       "      <td>1</td>\n",
       "      <td>Yes</td>\n",
       "      <td>08/24/2014</td>\n",
       "      <td>12/29/2010</td>\n",
       "      <td>FY11</td>\n",
       "      <td>12/17/2010</td>\n",
       "      <td>FY11</td>\n",
       "      <td>Won</td>\n",
       "      <td>Relationship</td>\n",
       "    </tr>\n",
       "    <tr>\n",
       "      <th>2</th>\n",
       "      <td>CHRISHEA</td>\n",
       "      <td>6-FGRSQ7Q7O</td>\n",
       "      <td>803510</td>\n",
       "      <td>Account Executive</td>\n",
       "      <td>Financial Services</td>\n",
       "      <td>0</td>\n",
       "      <td>No</td>\n",
       "      <td>07/21/2014</td>\n",
       "      <td>07/15/2025</td>\n",
       "      <td>FY26</td>\n",
       "      <td>08/15/2025</td>\n",
       "      <td>FY26</td>\n",
       "      <td>Lost</td>\n",
       "      <td>Customer Cancelled</td>\n",
       "    </tr>\n",
       "    <tr>\n",
       "      <th>3</th>\n",
       "      <td>AAALBREC</td>\n",
       "      <td>6-GM25YOPWT</td>\n",
       "      <td>513929</td>\n",
       "      <td>Account Executive</td>\n",
       "      <td>Manufacturing</td>\n",
       "      <td>1</td>\n",
       "      <td>Yes</td>\n",
       "      <td>12/16/2014</td>\n",
       "      <td>12/28/2015</td>\n",
       "      <td>FY16</td>\n",
       "      <td>12/28/2015</td>\n",
       "      <td>FY16</td>\n",
       "      <td>Won</td>\n",
       "      <td>Relationship</td>\n",
       "    </tr>\n",
       "    <tr>\n",
       "      <th>4</th>\n",
       "      <td>AGCARR</td>\n",
       "      <td>1-10BT1D5</td>\n",
       "      <td>436096</td>\n",
       "      <td>Cloud Specialist</td>\n",
       "      <td>NaN</td>\n",
       "      <td>1</td>\n",
       "      <td>Yes</td>\n",
       "      <td>03/03/2014</td>\n",
       "      <td>05/18/2010</td>\n",
       "      <td>FY10</td>\n",
       "      <td>05/27/2010</td>\n",
       "      <td>FY10</td>\n",
       "      <td>Won</td>\n",
       "      <td>Relationship</td>\n",
       "    </tr>\n",
       "  </tbody>\n",
       "</table>\n",
       "</div>"
      ],
      "text/plain": [
       "      Alias CRMOpportunityID  PersonnelNumber             StandardTitle  \\\n",
       "0  AEGGERER      7-NJKE6UWOM           151275  Business Program Manager   \n",
       "1  A-COBALA        1-16RJO1X           718150   XR - Account Management   \n",
       "2  CHRISHEA      6-FGRSQ7Q7O           803510         Account Executive   \n",
       "3  AAALBREC      6-GM25YOPWT           513929         Account Executive   \n",
       "4    AGCARR        1-10BT1D5           436096          Cloud Specialist   \n",
       "\n",
       "           Qualifier2  IsOpportunityOwner OwnershipFlag  \\\n",
       "0                 NaN                   1           Yes   \n",
       "1                 NaN                   1           Yes   \n",
       "2  Financial Services                   0            No   \n",
       "3       Manufacturing                   1           Yes   \n",
       "4                 NaN                   1           Yes   \n",
       "\n",
       "  OpportunityCreatedDate OpportunityCloseDate OpportunityCloseYear  \\\n",
       "0             05/15/2017           05/14/2217                  NaN   \n",
       "1             08/24/2014           12/29/2010                 FY11   \n",
       "2             07/21/2014           07/15/2025                 FY26   \n",
       "3             12/16/2014           12/28/2015                 FY16   \n",
       "4             03/03/2014           05/18/2010                 FY10   \n",
       "\n",
       "  OpportunityDueDate OpportunityDueYear MSXStatus OpportunityCloseReason  \n",
       "0                NaN               N/A       Lost  Duplicate Opportunity  \n",
       "1         12/17/2010               FY11       Won           Relationship  \n",
       "2         08/15/2025               FY26      Lost     Customer Cancelled  \n",
       "3         12/28/2015               FY16       Won           Relationship  \n",
       "4         05/27/2010               FY10       Won           Relationship  "
      ]
     },
     "execution_count": 11,
     "metadata": {},
     "output_type": "execute_result"
    }
   ],
   "source": [
    "msx_data.head()"
   ]
  },
  {
   "cell_type": "code",
   "execution_count": null,
   "metadata": {},
   "outputs": [],
   "source": []
  }
 ],
 "metadata": {
  "kernelspec": {
   "display_name": "Python 3",
   "language": "python",
   "name": "python3"
  },
  "language_info": {
   "codemirror_mode": {
    "name": "ipython",
    "version": 3
   },
   "file_extension": ".py",
   "mimetype": "text/x-python",
   "name": "python",
   "nbconvert_exporter": "python",
   "pygments_lexer": "ipython3",
   "version": "3.6.5"
  }
 },
 "nbformat": 4,
 "nbformat_minor": 2
}
