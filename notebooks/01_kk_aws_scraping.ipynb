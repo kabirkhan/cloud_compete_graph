{
 "cells": [
  {
   "cell_type": "markdown",
   "metadata": {},
   "source": [
    "# Scrape AWS Products, Categories and Icons"
   ]
  },
  {
   "cell_type": "code",
   "execution_count": 1,
   "metadata": {},
   "outputs": [
    {
     "name": "stdout",
     "output_type": "stream",
     "text": [
      "The history saving thread hit an unexpected error (DatabaseError('database disk image is malformed',)).History will not be written to the database.\n"
     ]
    }
   ],
   "source": [
    "from urllib.parse import parse_qs\n",
    "\n",
    "from bs4 import BeautifulSoup\n",
    "import pandas as pd\n",
    "import requests"
   ]
  },
  {
   "cell_type": "code",
   "execution_count": 2,
   "metadata": {},
   "outputs": [],
   "source": [
    "AWS_BASE_URL = 'https://aws.amazon.com'\n",
    "soup = BeautifulSoup(requests.get(f'{AWS_BASE_URL}/products').text, 'html.parser')"
   ]
  },
  {
   "cell_type": "code",
   "execution_count": 3,
   "metadata": {},
   "outputs": [
    {
     "data": {
      "text/plain": [
       "[<a class=\"lb-trigger lb-icon-ps-60-pie-bar-charts\"> <span>Analytics</span> </a>]"
      ]
     },
     "execution_count": 3,
     "metadata": {},
     "output_type": "execute_result"
    }
   ],
   "source": [
    "category_soups = soup.find_all('a', {'class': 'lb-trigger'})\n",
    "category_soups[:1]"
   ]
  },
  {
   "cell_type": "code",
   "execution_count": 4,
   "metadata": {},
   "outputs": [
    {
     "data": {
      "text/html": [
       "<div>\n",
       "<style scoped>\n",
       "    .dataframe tbody tr th:only-of-type {\n",
       "        vertical-align: middle;\n",
       "    }\n",
       "\n",
       "    .dataframe tbody tr th {\n",
       "        vertical-align: top;\n",
       "    }\n",
       "\n",
       "    .dataframe thead th {\n",
       "        text-align: right;\n",
       "    }\n",
       "</style>\n",
       "<table border=\"1\" class=\"dataframe\">\n",
       "  <thead>\n",
       "    <tr style=\"text-align: right;\">\n",
       "      <th></th>\n",
       "      <th>category_id</th>\n",
       "      <th>category_name</th>\n",
       "    </tr>\n",
       "  </thead>\n",
       "  <tbody>\n",
       "    <tr>\n",
       "      <th>0</th>\n",
       "      <td>1</td>\n",
       "      <td>Analytics</td>\n",
       "    </tr>\n",
       "    <tr>\n",
       "      <th>1</th>\n",
       "      <td>2</td>\n",
       "      <td>Application Integration</td>\n",
       "    </tr>\n",
       "    <tr>\n",
       "      <th>2</th>\n",
       "      <td>3</td>\n",
       "      <td>AR &amp; VR</td>\n",
       "    </tr>\n",
       "    <tr>\n",
       "      <th>3</th>\n",
       "      <td>4</td>\n",
       "      <td>AWS Cost Management</td>\n",
       "    </tr>\n",
       "    <tr>\n",
       "      <th>4</th>\n",
       "      <td>5</td>\n",
       "      <td>Blockchain</td>\n",
       "    </tr>\n",
       "  </tbody>\n",
       "</table>\n",
       "</div>"
      ],
      "text/plain": [
       "   category_id            category_name\n",
       "0            1                Analytics\n",
       "1            2  Application Integration\n",
       "2            3                  AR & VR\n",
       "3            4      AWS Cost Management\n",
       "4            5               Blockchain"
      ]
     },
     "execution_count": 4,
     "metadata": {},
     "output_type": "execute_result"
    }
   ],
   "source": [
    "aws_categories = []\n",
    "for i, cat in enumerate(category_soups):\n",
    "    aws_categories.append({\n",
    "        'category_id': i + 1,\n",
    "        'category_name': cat.text.strip()\n",
    "    })\n",
    "aws_categories_df = pd.DataFrame(aws_categories)\n",
    "aws_categories_df.head()"
   ]
  },
  {
   "cell_type": "code",
   "execution_count": 5,
   "metadata": {},
   "outputs": [
    {
     "data": {
      "text/plain": [
       "[<a href=\"/athena/?c=1&amp;pt=1\"> Amazon Athena<span>Query Data in S3 using SQL</span> </a>]"
      ]
     },
     "execution_count": 5,
     "metadata": {},
     "output_type": "execute_result"
    }
   ],
   "source": [
    "service_soups = [s.find('a') for s in soup.find_all('div', {'class': 'lb-content-item'})]\n",
    "service_soups[:1]"
   ]
  },
  {
   "cell_type": "code",
   "execution_count": 9,
   "metadata": {},
   "outputs": [
    {
     "data": {
      "text/html": [
       "<div>\n",
       "<style scoped>\n",
       "    .dataframe tbody tr th:only-of-type {\n",
       "        vertical-align: middle;\n",
       "    }\n",
       "\n",
       "    .dataframe tbody tr th {\n",
       "        vertical-align: top;\n",
       "    }\n",
       "\n",
       "    .dataframe thead th {\n",
       "        text-align: right;\n",
       "    }\n",
       "</style>\n",
       "<table border=\"1\" class=\"dataframe\">\n",
       "  <thead>\n",
       "    <tr style=\"text-align: right;\">\n",
       "      <th></th>\n",
       "      <th>category_id</th>\n",
       "      <th>link</th>\n",
       "      <th>long_description</th>\n",
       "      <th>name</th>\n",
       "      <th>short_description</th>\n",
       "    </tr>\n",
       "  </thead>\n",
       "  <tbody>\n",
       "    <tr>\n",
       "      <th>0</th>\n",
       "      <td>1</td>\n",
       "      <td>https://aws.amazon.com/athena/?c=1&amp;pt=1</td>\n",
       "      <td>Amazon Athena is an interactive query service ...</td>\n",
       "      <td>Amazon Athena</td>\n",
       "      <td>Query Data in S3 using SQL</td>\n",
       "    </tr>\n",
       "    <tr>\n",
       "      <th>1</th>\n",
       "      <td>1</td>\n",
       "      <td>https://aws.amazon.com/cloudsearch/?c=1&amp;pt=2</td>\n",
       "      <td>Related Links\\nGet Started for Free\\nAmazon Cl...</td>\n",
       "      <td>Amazon CloudSearch</td>\n",
       "      <td>Managed Search Service</td>\n",
       "    </tr>\n",
       "    <tr>\n",
       "      <th>2</th>\n",
       "      <td>1</td>\n",
       "      <td>https://aws.amazon.com/elasticsearch-service/?...</td>\n",
       "      <td>Amazon Elasticsearch Service is a fully manage...</td>\n",
       "      <td>Amazon Elasticsearch Service</td>\n",
       "      <td>Run and Scale Elasticsearch Clusters</td>\n",
       "    </tr>\n",
       "    <tr>\n",
       "      <th>3</th>\n",
       "      <td>1</td>\n",
       "      <td>https://aws.amazon.com/elasticmapreduce/?c=1&amp;pt=4</td>\n",
       "      <td>Amazon EMR provides a managed Hadoop framework...</td>\n",
       "      <td>Amazon EMR</td>\n",
       "      <td>Hosted Hadoop Framework</td>\n",
       "    </tr>\n",
       "    <tr>\n",
       "      <th>4</th>\n",
       "      <td>1</td>\n",
       "      <td>https://aws.amazon.com/kinesis/?c=1&amp;pt=5</td>\n",
       "      <td>Amazon Kinesis makes it easy to collect, proce...</td>\n",
       "      <td>Amazon Kinesis</td>\n",
       "      <td>Work with Real-time Streaming Data</td>\n",
       "    </tr>\n",
       "  </tbody>\n",
       "</table>\n",
       "</div>"
      ],
      "text/plain": [
       "   category_id                                               link  \\\n",
       "0            1            https://aws.amazon.com/athena/?c=1&pt=1   \n",
       "1            1       https://aws.amazon.com/cloudsearch/?c=1&pt=2   \n",
       "2            1  https://aws.amazon.com/elasticsearch-service/?...   \n",
       "3            1  https://aws.amazon.com/elasticmapreduce/?c=1&pt=4   \n",
       "4            1           https://aws.amazon.com/kinesis/?c=1&pt=5   \n",
       "\n",
       "                                    long_description  \\\n",
       "0  Amazon Athena is an interactive query service ...   \n",
       "1  Related Links\\nGet Started for Free\\nAmazon Cl...   \n",
       "2  Amazon Elasticsearch Service is a fully manage...   \n",
       "3  Amazon EMR provides a managed Hadoop framework...   \n",
       "4  Amazon Kinesis makes it easy to collect, proce...   \n",
       "\n",
       "                           name                     short_description  \n",
       "0                 Amazon Athena            Query Data in S3 using SQL  \n",
       "1            Amazon CloudSearch                Managed Search Service  \n",
       "2  Amazon Elasticsearch Service  Run and Scale Elasticsearch Clusters  \n",
       "3                    Amazon EMR               Hosted Hadoop Framework  \n",
       "4                Amazon Kinesis    Work with Real-time Streaming Data  "
      ]
     },
     "execution_count": 9,
     "metadata": {},
     "output_type": "execute_result"
    }
   ],
   "source": [
    "aws_services = []\n",
    "\n",
    "for s in service_soups:\n",
    "    url = f\"{AWS_BASE_URL}{s['href']}\"\n",
    "    text = s.text.strip()\n",
    "    desc = s.find('span').text.strip()\n",
    "    name = text[:text.index(desc)]\n",
    "    \n",
    "    service_detail_soup = BeautifulSoup(requests.get(url).text, 'html.parser')\n",
    "    full_description = '\\n'.join([p.text for p in service_detail_soup.find_all('p')[:3]])\n",
    "    \n",
    "    aws_services.append({\n",
    "        'category_id': int(parse_qs(url.split('?')[1])['c'][0]),\n",
    "        'name': name,\n",
    "        'short_description': desc,\n",
    "        'long_description': full_description,\n",
    "        'link': url\n",
    "    })\n",
    "aws_services_df = pd.DataFrame(aws_services)\n",
    "aws_services_df.head()"
   ]
  },
  {
   "cell_type": "code",
   "execution_count": 10,
   "metadata": {},
   "outputs": [
    {
     "data": {
      "text/html": [
       "<div>\n",
       "<style scoped>\n",
       "    .dataframe tbody tr th:only-of-type {\n",
       "        vertical-align: middle;\n",
       "    }\n",
       "\n",
       "    .dataframe tbody tr th {\n",
       "        vertical-align: top;\n",
       "    }\n",
       "\n",
       "    .dataframe thead th {\n",
       "        text-align: right;\n",
       "    }\n",
       "</style>\n",
       "<table border=\"1\" class=\"dataframe\">\n",
       "  <thead>\n",
       "    <tr style=\"text-align: right;\">\n",
       "      <th></th>\n",
       "      <th>category_id</th>\n",
       "      <th>category_name</th>\n",
       "      <th>link</th>\n",
       "      <th>long_description</th>\n",
       "      <th>name</th>\n",
       "      <th>short_description</th>\n",
       "    </tr>\n",
       "  </thead>\n",
       "  <tbody>\n",
       "    <tr>\n",
       "      <th>0</th>\n",
       "      <td>1</td>\n",
       "      <td>Analytics</td>\n",
       "      <td>https://aws.amazon.com/athena/?c=1&amp;pt=1</td>\n",
       "      <td>Amazon Athena is an interactive query service ...</td>\n",
       "      <td>Amazon Athena</td>\n",
       "      <td>Query Data in S3 using SQL</td>\n",
       "    </tr>\n",
       "    <tr>\n",
       "      <th>1</th>\n",
       "      <td>1</td>\n",
       "      <td>Analytics</td>\n",
       "      <td>https://aws.amazon.com/cloudsearch/?c=1&amp;pt=2</td>\n",
       "      <td>Related Links\\nGet Started for Free\\nAmazon Cl...</td>\n",
       "      <td>Amazon CloudSearch</td>\n",
       "      <td>Managed Search Service</td>\n",
       "    </tr>\n",
       "    <tr>\n",
       "      <th>2</th>\n",
       "      <td>1</td>\n",
       "      <td>Analytics</td>\n",
       "      <td>https://aws.amazon.com/elasticsearch-service/?...</td>\n",
       "      <td>Amazon Elasticsearch Service is a fully manage...</td>\n",
       "      <td>Amazon Elasticsearch Service</td>\n",
       "      <td>Run and Scale Elasticsearch Clusters</td>\n",
       "    </tr>\n",
       "    <tr>\n",
       "      <th>3</th>\n",
       "      <td>1</td>\n",
       "      <td>Analytics</td>\n",
       "      <td>https://aws.amazon.com/elasticmapreduce/?c=1&amp;pt=4</td>\n",
       "      <td>Amazon EMR provides a managed Hadoop framework...</td>\n",
       "      <td>Amazon EMR</td>\n",
       "      <td>Hosted Hadoop Framework</td>\n",
       "    </tr>\n",
       "    <tr>\n",
       "      <th>4</th>\n",
       "      <td>1</td>\n",
       "      <td>Analytics</td>\n",
       "      <td>https://aws.amazon.com/kinesis/?c=1&amp;pt=5</td>\n",
       "      <td>Amazon Kinesis makes it easy to collect, proce...</td>\n",
       "      <td>Amazon Kinesis</td>\n",
       "      <td>Work with Real-time Streaming Data</td>\n",
       "    </tr>\n",
       "  </tbody>\n",
       "</table>\n",
       "</div>"
      ],
      "text/plain": [
       "   category_id category_name  \\\n",
       "0            1     Analytics   \n",
       "1            1     Analytics   \n",
       "2            1     Analytics   \n",
       "3            1     Analytics   \n",
       "4            1     Analytics   \n",
       "\n",
       "                                                link  \\\n",
       "0            https://aws.amazon.com/athena/?c=1&pt=1   \n",
       "1       https://aws.amazon.com/cloudsearch/?c=1&pt=2   \n",
       "2  https://aws.amazon.com/elasticsearch-service/?...   \n",
       "3  https://aws.amazon.com/elasticmapreduce/?c=1&pt=4   \n",
       "4           https://aws.amazon.com/kinesis/?c=1&pt=5   \n",
       "\n",
       "                                    long_description  \\\n",
       "0  Amazon Athena is an interactive query service ...   \n",
       "1  Related Links\\nGet Started for Free\\nAmazon Cl...   \n",
       "2  Amazon Elasticsearch Service is a fully manage...   \n",
       "3  Amazon EMR provides a managed Hadoop framework...   \n",
       "4  Amazon Kinesis makes it easy to collect, proce...   \n",
       "\n",
       "                           name                     short_description  \n",
       "0                 Amazon Athena            Query Data in S3 using SQL  \n",
       "1            Amazon CloudSearch                Managed Search Service  \n",
       "2  Amazon Elasticsearch Service  Run and Scale Elasticsearch Clusters  \n",
       "3                    Amazon EMR               Hosted Hadoop Framework  \n",
       "4                Amazon Kinesis    Work with Real-time Streaming Data  "
      ]
     },
     "execution_count": 10,
     "metadata": {},
     "output_type": "execute_result"
    }
   ],
   "source": [
    "aws_df = pd.merge(aws_categories_df, aws_services_df, on='category_id')\n",
    "aws_df.head()"
   ]
  },
  {
   "cell_type": "code",
   "execution_count": null,
   "metadata": {},
   "outputs": [],
   "source": [
    "def "
   ]
  }
 ],
 "metadata": {
  "kernelspec": {
   "display_name": "Python 3",
   "language": "python",
   "name": "python3"
  },
  "language_info": {
   "codemirror_mode": {
    "name": "ipython",
    "version": 3
   },
   "file_extension": ".py",
   "mimetype": "text/x-python",
   "name": "python",
   "nbconvert_exporter": "python",
   "pygments_lexer": "ipython3",
   "version": "3.6.5"
  }
 },
 "nbformat": 4,
 "nbformat_minor": 2
}
