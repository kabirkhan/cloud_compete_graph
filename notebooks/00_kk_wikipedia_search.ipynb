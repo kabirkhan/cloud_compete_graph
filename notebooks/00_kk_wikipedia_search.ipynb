{
 "cells": [
  {
   "cell_type": "code",
   "execution_count": 14,
   "metadata": {},
   "outputs": [],
   "source": [
    "import requests\n",
    "import wikipedia"
   ]
  },
  {
   "cell_type": "code",
   "execution_count": 12,
   "metadata": {},
   "outputs": [
    {
     "data": {
      "text/plain": [
       "['Chef (software)',\n",
       " 'Chef (company)',\n",
       " 'Chef (disambiguation)',\n",
       " 'Foreman (software)',\n",
       " 'Terraform (software)',\n",
       " 'Puppet (software)',\n",
       " 'Salt (software)',\n",
       " 'Vagrant (software)',\n",
       " 'CodeChef',\n",
       " 'Rudder (software)']"
      ]
     },
     "execution_count": 12,
     "metadata": {},
     "output_type": "execute_result"
    }
   ],
   "source": [
    "wikipedia.search('Chef software', results=10)"
   ]
  },
  {
   "cell_type": "code",
   "execution_count": 7,
   "metadata": {},
   "outputs": [
    {
     "data": {
      "text/plain": [
       "'AngularJS (also written as Angular.js) is a JavaScript-based   open-source front-end web application framework mainly maintained by Google and by a community of individuals and corporations to address many of the challenges encountered in developing single-page applications. The JavaScript components complement Apache Cordova, a framework used for developing cross-platform mobile apps. It aims to simplify both the development and the testing of such applications by providing a framework for client-side model–view–controller (MVC) and model–view–viewmodel (MVVM) architectures, along with components commonly used in rich Internet applications.'"
      ]
     },
     "execution_count": 7,
     "metadata": {},
     "output_type": "execute_result"
    }
   ],
   "source": [
    "wikipedia.summary(\"AngularJS\", sentences=3)"
   ]
  },
  {
   "cell_type": "code",
   "execution_count": 31,
   "metadata": {},
   "outputs": [
    {
     "data": {
      "text/plain": [
       "[{'externalId': 'tech_102',\n",
       "  'link': 'https://www.onetonline.org/search/hot_tech/detail/102',\n",
       "  'name': 'CA Erwin Data Modeler'},\n",
       " {'externalId': 'tech_137',\n",
       "  'link': 'https://www.onetonline.org/search/hot_tech/detail/137',\n",
       "  'name': 'Cascading Style Sheets CSS'},\n",
       " {'externalId': 'tech_187',\n",
       "  'link': 'https://www.onetonline.org/search/hot_tech/detail/187',\n",
       "  'name': 'Chef'},\n",
       " {'externalId': 'tech_43',\n",
       "  'link': 'https://www.onetonline.org/search/hot_tech/detail/43',\n",
       "  'name': 'Citrix'},\n",
       " {'externalId': 'tech_81',\n",
       "  'link': 'https://www.onetonline.org/search/hot_tech/detail/81',\n",
       "  'name': 'Common business oriented language COBOL'}]"
      ]
     },
     "execution_count": 31,
     "metadata": {},
     "output_type": "execute_result"
    }
   ],
   "source": [
    "res = requests.get('https://api.apify.com/v1/b66KoJCe46d5AmZTj/crawlers/R48vYLLmmG8wMErrj/lastExec/results?token=zCjH2dDTLri7Qy5gkzCpQEQr4')\n",
    "onet = res.json()[0]['pageFunctionResult']\n",
    "onet[40:45]"
   ]
  },
  {
   "cell_type": "code",
   "execution_count": 35,
   "metadata": {},
   "outputs": [
    {
     "name": "stdout",
     "output_type": "stream",
     "text": [
      "['Erwin Data Modeler', 'Embarcadero Technologies', 'Comparison of data modeling tools']\n",
      "['Cascading Style Sheets', 'Dynamic cascading style sheets', 'JavaScript Style Sheets']\n",
      "['Chef (software)', 'Chef (disambiguation)', 'Chef (company)']\n",
      "['Citrix Systems', 'Citrix Receiver', 'Citrix Cloud']\n",
      "['COBOL', 'List of object-oriented programming languages', 'Programming paradigm']\n"
     ]
    }
   ],
   "source": [
    "page = None\n",
    "for tech in onet[40:45]:\n",
    "    name = tech['name']\n",
    "    if name.startswith('Adobe'):\n",
    "        name = ' '.join(name.split()[2:])\n",
    "        \n",
    "    common_names = ['Chef']\n",
    "    if name in common_names:\n",
    "        name = f'{name} (software)'\n",
    "    search_results = wikipedia.search(name, results=3)\n",
    "    search_result = search_results[0]\n",
    "    print(search_results)\n",
    "    page = wikipedia.page(search_result)\n",
    "\n",
    "    tech['wikipediaId'] = page.pageid\n",
    "    tech['wikipediaUrl'] = page.url\n",
    "    tech['description'] = page.summary"
   ]
  },
  {
   "cell_type": "code",
   "execution_count": 36,
   "metadata": {},
   "outputs": [
    {
     "data": {
      "text/plain": [
       "[{'externalId': 'tech_102',\n",
       "  'link': 'https://www.onetonline.org/search/hot_tech/detail/102',\n",
       "  'name': 'CA Erwin Data Modeler',\n",
       "  'wikipediaId': '9502078',\n",
       "  'wikipediaUrl': 'https://en.wikipedia.org/wiki/Erwin_Data_Modeler',\n",
       "  'description': 'erwin Data Modeler (stylized as erwin but formerly as ERwin) is computer software for data modeling. Originally developed by Logic Works, erwin has since been acquired by a series of companies, before being spun-off by the private equity firm Parallax Capital Partners, which acquired and incorporated it as a separate entity, erwin, Inc., managed by CEO Adam Famularo.\\nThe software’s engine is based on the IDEF1X method, although it now also supports diagrams displayed with a variant information technology engineering notation, as well as a dimensional modeling notation.'},\n",
       " {'externalId': 'tech_137',\n",
       "  'link': 'https://www.onetonline.org/search/hot_tech/detail/137',\n",
       "  'name': 'Cascading Style Sheets CSS',\n",
       "  'wikipediaId': '23290197',\n",
       "  'wikipediaUrl': 'https://en.wikipedia.org/wiki/Cascading_Style_Sheets',\n",
       "  'description': 'Cascading Style Sheets (CSS) is a style sheet language used for describing the presentation of a document written in a markup language like HTML. CSS is a cornerstone technology of the World Wide Web, alongside HTML and JavaScript.CSS is designed to enable the separation of presentation and content, including layout, colors, and fonts. This separation can improve content accessibility, provide more flexibility and control in the specification of presentation characteristics, enable multiple web pages to share formatting by specifying the relevant CSS in a separate .css file, and reduce complexity and repetition in the structural content.\\nSeparation of formatting and content also makes it feasible to present the same markup page in different styles for different rendering methods, such as on-screen, in print, by voice (via speech-based browser or screen reader), and on Braille-based tactile devices. CSS also has rules for alternate formatting if the content is accessed on a mobile device.The name cascading comes from the specified priority scheme to determine which style rule applies if more than one rule matches a particular element. This cascading priority scheme is predictable.\\nThe CSS specifications are maintained by the World Wide Web Consortium (W3C). Internet media type (MIME type) text/css is registered for use with CSS by RFC 2318 (March 1998). The W3C operates a free CSS validation service for CSS documents.In addition to HTML, other markup languages support the use of CSS including XHTML, plain XML, SVG, and XUL.'},\n",
       " {'externalId': 'tech_187',\n",
       "  'link': 'https://www.onetonline.org/search/hot_tech/detail/187',\n",
       "  'name': 'Chef',\n",
       "  'wikipediaId': '22561399',\n",
       "  'wikipediaUrl': 'https://en.wikipedia.org/wiki/Chef_(software)',\n",
       "  'description': 'Chef is a company and the name of a configuration management tool written in Ruby and Erlang. It uses a pure-Ruby, domain-specific language (DSL) for writing system configuration \"recipes\". Chef is used to streamline the task of configuring and maintaining a company\\'s servers, and can integrate with cloud-based platforms such as Internap, Amazon EC2, Google Cloud Platform, Oracle Cloud, OpenStack, SoftLayer, Microsoft Azure and Rackspace to automatically provision and configure new machines. Chef contains solutions for both small and large scale systems, with features and pricing for the respective ranges.'},\n",
       " {'externalId': 'tech_43',\n",
       "  'link': 'https://www.onetonline.org/search/hot_tech/detail/43',\n",
       "  'name': 'Citrix',\n",
       "  'wikipediaId': '309948',\n",
       "  'wikipediaUrl': 'https://en.wikipedia.org/wiki/Citrix_Systems',\n",
       "  'description': \"Citrix Systems, Inc. is an American multinational software company that provides server, application and desktop virtualization, networking, software as a service (SaaS), and cloud computing technologies. Citrix solutions are claimed to be in use by over 400,000 clients worldwide, including 99% of the Fortune 100, and 98% of the Fortune 500.The company was founded in Richardson, Texas in 1989 by Ed Iacobucci, who served as chairman until his departure in 2000. It began by developing remote access products for Microsoft operating systems, licensing source code from Microsoft, and has been in partnership with the company throughout its history. By the 1990s, Citrix came to prominence as an industry leader in thin client technology, enabling purpose-built devices to access remote servers and resources. The company launched its first initial public offering in 1995 and, with few competitors, experienced large revenue increases between 1995 and 1999.\\nCitrix acquired Sequoia Software Corp. in 2001 and ExpertCity, a provider of remote desktop products, in 2003. This was followed by more than a dozen other acquisitions from 2005 to 2012, which allowed Citrix to expand into server and desktop virtualization, cloud computing, Infrastructure as a Service, and Software as a Service offerings. In 2014, Citrix acquired Framehawk and used its technology to improve the delivery of virtual desktops and applications over wireless networks. In 2016, as part of a US$1.8 billion product deal with LogMeIn, Citrix spun off the GoTo product line into a new business entity, entitled GetGo. In 2017, Citrix completed the merger of GetGo with LogMeIn's products.\\nCitrix has corporate headquarters in both Fort Lauderdale, Florida and Santa Clara, California, with subsidiary operations in California and Massachusetts, and additional development centers in Australia, Canada, Denmark, Germany, India, and the United Kingdom. Citrix in January 2018 reported revenue from continuing operations of $2.82 billion for fiscal year 2017, compared to $2.74 billion for fiscal year 2016, a 3% increase. As of April 2017, the company employed approximately 8,100 employees worldwide.\"},\n",
       " {'externalId': 'tech_81',\n",
       "  'link': 'https://www.onetonline.org/search/hot_tech/detail/81',\n",
       "  'name': 'Common business oriented language COBOL',\n",
       "  'wikipediaId': '6799',\n",
       "  'wikipediaUrl': 'https://en.wikipedia.org/wiki/COBOL',\n",
       "  'description': 'COBOL (; an acronym for \"common business-oriented language\") is a compiled English-like computer programming language designed for business use. It is imperative, procedural and, since 2002, object-oriented. COBOL is primarily used in business, finance, and administrative systems for companies and governments. COBOL is still widely used in legacy applications deployed on mainframe computers, such as large-scale batch and transaction processing jobs. But due to its declining popularity and the retirement of experienced COBOL programmers, programs are being migrated to new platforms, rewritten in modern languages or replaced with software packages. Most programming in COBOL is now purely to maintain existing applications.COBOL was designed in 1959 by CODASYL and was partly based on previous programming language design work by Grace Hopper, commonly referred to as \"the (grand)mother of COBOL\". It was created as part of a US Department of Defense effort to create a portable programming language for data processing. It was originally seen as a stopgap, but the Department of Defense promptly forced computer manufacturers to provide it, resulting in its widespread adoption. It was standardized in 1968 and has since been revised four times. Expansions include support for structured and object-oriented programming. The current standard is ISO/IEC 1989:2014.COBOL statements have an English-like syntax, which was designed to be self-documenting and highly readable. However, it is verbose and uses over 300 reserved words. In contrast with modern, succinct syntax like y = x;, COBOL has a more English-like syntax (in this case, MOVE x TO y).\\nCOBOL code is split into four divisions (identification, environment, data and procedure) containing a rigid hierarchy of sections, paragraphs and sentences. Lacking a large standard library, the standard specifies 43 statements, 87 functions and just one class.\\nAcademic computer scientists were generally uninterested in business applications when COBOL was created and were not involved in its design; it was (effectively) designed from the ground up as a computer language for business, with an emphasis on inputs and outputs, whose only data types were numbers and strings of text.\\nCOBOL has been criticized throughout its life, for its verbosity, design process, and poor support for structured programming. These weaknesses result in monolithic and, though intended to be English-like, not easily comprehensible and verbose programs.\\n\\n'}]"
      ]
     },
     "execution_count": 36,
     "metadata": {},
     "output_type": "execute_result"
    }
   ],
   "source": [
    "onet[40:45]"
   ]
  },
  {
   "cell_type": "code",
   "execution_count": 38,
   "metadata": {},
   "outputs": [
    {
     "data": {
      "text/plain": [
       "'https://en.wikipedia.org/wiki/COBOL'"
      ]
     },
     "execution_count": 38,
     "metadata": {},
     "output_type": "execute_result"
    }
   ],
   "source": [
    "page.url"
   ]
  },
  {
   "cell_type": "code",
   "execution_count": 45,
   "metadata": {},
   "outputs": [
    {
     "data": {
      "text/plain": [
       "['.NET programming languages',\n",
       " '1959 software',\n",
       " 'All Wikipedia articles written in American English',\n",
       " 'All articles lacking reliable references',\n",
       " 'All articles to be split',\n",
       " 'All articles with unsourced statements',\n",
       " 'Articles lacking reliable references from January 2015',\n",
       " 'Articles to be split from July 2018',\n",
       " 'Articles with Curlie links',\n",
       " 'Articles with specifically marked weasel-worded phrases from March 2014',\n",
       " 'Articles with unsourced statements from March 2014',\n",
       " 'Articles with unsourced statements from March 2017',\n",
       " 'Articles with unsourced statements from October 2017',\n",
       " 'COBOL',\n",
       " 'CS1 maint: Multiple names: authors list',\n",
       " 'Class-based programming languages',\n",
       " 'Computer-related introductions in 1959',\n",
       " 'Cross-platform software',\n",
       " 'Good articles',\n",
       " 'Object-oriented programming languages',\n",
       " 'Pages containing links to subscription-only content',\n",
       " 'Procedural programming languages',\n",
       " 'Programming languages created by women',\n",
       " 'Programming languages created in 1959',\n",
       " 'Programming languages with an ISO standard',\n",
       " 'Statically typed programming languages',\n",
       " 'Structured programming languages',\n",
       " 'Use American English from October 2014',\n",
       " 'Wikipedia articles with BNF identifiers',\n",
       " 'Wikipedia articles with GND identifiers',\n",
       " 'Wikipedia articles with LCCN identifiers']"
      ]
     },
     "execution_count": 45,
     "metadata": {},
     "output_type": "execute_result"
    }
   ],
   "source": [
    "page.categories"
   ]
  },
  {
   "cell_type": "code",
   "execution_count": null,
   "metadata": {},
   "outputs": [],
   "source": []
  }
 ],
 "metadata": {
  "kernelspec": {
   "display_name": "Python 3",
   "language": "python",
   "name": "python3"
  },
  "language_info": {
   "codemirror_mode": {
    "name": "ipython",
    "version": 3
   },
   "file_extension": ".py",
   "mimetype": "text/x-python",
   "name": "python",
   "nbconvert_exporter": "python",
   "pygments_lexer": "ipython3",
   "version": "3.6.5"
  }
 },
 "nbformat": 4,
 "nbformat_minor": 2
}
