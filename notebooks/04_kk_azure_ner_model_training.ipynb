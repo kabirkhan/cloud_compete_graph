{
 "cells": [
  {
   "cell_type": "code",
   "execution_count": 9,
   "metadata": {},
   "outputs": [],
   "source": [
    "import json"
   ]
  },
  {
   "cell_type": "code",
   "execution_count": 10,
   "metadata": {},
   "outputs": [
    {
     "data": {
      "text/plain": [
       "3072"
      ]
     },
     "execution_count": 10,
     "metadata": {},
     "output_type": "execute_result"
    }
   ],
   "source": [
    "annotations = []\n",
    "with open('/tmp/prodigy/ner_azure_services.jsonl') as ner_azure_annotations_file:\n",
    "    for line in ner_azure_annotations_file.readlines():\n",
    "        data = json.loads(line)\n",
    "        annotations.append(data)\n",
    "\n",
    "lowercase_annotations = []\n",
    "for annotation in annotations:\n",
    "    lower_annotation = annotation.copy()\n",
    "    lower_spans = []\n",
    "    if 'spans' not in lower_annotation:\n",
    "        continue\n",
    "    for span in lower_annotation['spans']:\n",
    "        \n",
    "        lower_span = span.copy()\n",
    "        if 'text' not in lower_span:\n",
    "            continue\n",
    "        lower_span['text'] = lower_span['text'].lower()\n",
    "        lower_spans.append(lower_span)\n",
    "    \n",
    "    lowercase_annotations.append({\n",
    "        'text': annotation['text'],\n",
    "        'spans': annotation['spans'],\n",
    "        'answer': annotation['answer']\n",
    "    })\n",
    "    \n",
    "    lowercase_annotations.append({\n",
    "        'text': annotation['text'].lower(),\n",
    "        'spans': lower_spans,\n",
    "        'answer': annotation['answer']\n",
    "    })\n",
    "len(lowercase_annotations)"
   ]
  },
  {
   "cell_type": "code",
   "execution_count": 11,
   "metadata": {},
   "outputs": [],
   "source": [
    "with open('/tmp/prodigy/ner_azure_services_with_lower.jsonl', 'w') as ner_azure_annotations_file:\n",
    "    for a in lowercase_annotations:\n",
    "        ner_azure_annotations_file.write(json.dumps(a) + '\\n')"
   ]
  },
  {
   "cell_type": "code",
   "execution_count": null,
   "metadata": {},
   "outputs": [],
   "source": []
  }
 ],
 "metadata": {
  "kernelspec": {
   "display_name": "Python 3",
   "language": "python",
   "name": "python3"
  },
  "language_info": {
   "codemirror_mode": {
    "name": "ipython",
    "version": 3
   },
   "file_extension": ".py",
   "mimetype": "text/x-python",
   "name": "python",
   "nbconvert_exporter": "python",
   "pygments_lexer": "ipython3",
   "version": "3.6.5"
  }
 },
 "nbformat": 4,
 "nbformat_minor": 2
}
