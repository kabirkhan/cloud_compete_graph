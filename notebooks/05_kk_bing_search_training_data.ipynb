{
 "cells": [
  {
   "cell_type": "code",
   "execution_count": 2,
   "metadata": {},
   "outputs": [],
   "source": [
    "import json\n",
    "from typing import List\n",
    "import requests"
   ]
  },
  {
   "cell_type": "code",
   "execution_count": 9,
   "metadata": {},
   "outputs": [],
   "source": [
    "def apify_training_data(skills: List[str], suffix: str = ''):\n",
    "    output_urls = []\n",
    "    for s in skills:\n",
    "        res = requests.post(\n",
    "            'https://api.apify.com/v2/acts/G4B5HdLYCXDyiafhy/runs?token=BDR3StxrybGSpod9z5Ara2o83',\n",
    "            json={\n",
    "                'q': f'{s} {suffix}'\n",
    "            }\n",
    "        )\n",
    "\n",
    "        kv_store = res.json()['data']['defaultKeyValueStoreId']\n",
    "        print(kv_store)\n",
    "        output_url = f\"https://api.apify.com/v2/key-value-stores/{kv_store}/records/OUTPUT?disableRedirect=true\"\n",
    "        output_urls.append({'name': s, 'output_url': output_url})\n",
    "    return output_urls"
   ]
  },
  {
   "cell_type": "code",
   "execution_count": 10,
   "metadata": {},
   "outputs": [],
   "source": [
    "skills_terms = ['azure cognitive services', 'azure video indexer', 'azure text analytics', 'azure speech', 'azure computer vision']"
   ]
  },
  {
   "cell_type": "code",
   "execution_count": 13,
   "metadata": {},
   "outputs": [],
   "source": [
    "data = [requests.get(o['output_url']).json() for o in output_urls]"
   ]
  },
  {
   "cell_type": "code",
   "execution_count": 14,
   "metadata": {},
   "outputs": [],
   "source": [
    "with open('../data/processed/azure_bing_search_examples_cog_services.jsonl', 'w+') as f:\n",
    "    for svc in data:\n",
    "        svc_data = svc['webPages'] + svc['news']\n",
    "        for svc_data in svc_data:\n",
    "            if 'paragraphs' in svc_data:\n",
    "                for p in svc_data['paragraphs']:\n",
    "                    f.write(json.dumps({\n",
    "                        'text': p,\n",
    "                        'meta': {\n",
    "                            'source_url': svc_data['url']\n",
    "                        }\n",
    "                    }) + '\\n')"
   ]
  },
  {
   "cell_type": "code",
   "execution_count": null,
   "metadata": {},
   "outputs": [],
   "source": []
  }
 ],
 "metadata": {
  "kernelspec": {
   "display_name": "Python 3",
   "language": "python",
   "name": "python3"
  },
  "language_info": {
   "codemirror_mode": {
    "name": "ipython",
    "version": 3
   },
   "file_extension": ".py",
   "mimetype": "text/x-python",
   "name": "python",
   "nbconvert_exporter": "python",
   "pygments_lexer": "ipython3",
   "version": "3.6.5"
  }
 },
 "nbformat": 4,
 "nbformat_minor": 2
}
