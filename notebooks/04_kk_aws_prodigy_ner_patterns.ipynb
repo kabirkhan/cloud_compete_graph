{
 "cells": [
  {
   "cell_type": "code",
   "execution_count": 1,
   "metadata": {},
   "outputs": [
    {
     "name": "stdout",
     "output_type": "stream",
     "text": [
      "The history saving thread hit an unexpected error (DatabaseError('database disk image is malformed',)).History will not be written to the database.\n"
     ]
    }
   ],
   "source": [
    "import os\n",
    "import json\n",
    "import requests\n",
    "from bs4 import BeautifulSoup\n",
    "import markdown\n",
    "from dotenv import load_dotenv, find_dotenv"
   ]
  },
  {
   "cell_type": "code",
   "execution_count": 2,
   "metadata": {},
   "outputs": [],
   "source": [
    "from src.data.cosmos import GremlinQueryManager, DocumentQueryManager\n",
    "from src.data.graph.gremlin import GremlinQueryBuilder"
   ]
  },
  {
   "cell_type": "markdown",
   "metadata": {},
   "source": [
    "## Patterns"
   ]
  },
  {
   "cell_type": "code",
   "execution_count": 3,
   "metadata": {},
   "outputs": [],
   "source": [
    "load_dotenv(find_dotenv())\n",
    "\n",
    "account_name = os.environ.get('COSMOS_ACCOUNT_NAME')\n",
    "db_name = os.environ.get('COSMOS_DB_NAME')\n",
    "graph_name = os.environ.get('COSMOS_GRAPH_NAME')\n",
    "master_key = os.environ.get('COSMOS_MASTER_KEY')\n",
    "\n",
    "gremlin_qm = GremlinQueryManager(account_name, master_key, db_name, graph_name)\n",
    "doc_qm = DocumentQueryManager(account_name, master_key, db_name)"
   ]
  },
  {
   "cell_type": "code",
   "execution_count": 36,
   "metadata": {},
   "outputs": [
    {
     "data": {
      "text/plain": [
       "176"
      ]
     },
     "execution_count": 36,
     "metadata": {},
     "output_type": "execute_result"
    }
   ],
   "source": [
    "services = []\n",
    "\n",
    "abbr = 'aws'\n",
    "q = f\"\"\"g.V().has(\"label\", \"{abbr}_service\")\n",
    "        .project(\"id\", \"name\", \"shortDescription\", \"longDescription\", \"uri\", \"iconUri\", \"categories\", \"relatedServices\")\n",
    "        .by(\"id\").by(\"name\").by(\"short_description\").by(\"long_description\").by(\"uri\").by(\"icon_uri\")\n",
    "        .by(out(\"belongs_to\").values(\"name\").fold())\n",
    "        .by(coalesce(out(\"related_service\").values(\"name\").fold(), __.not(identity()).fold()))\"\"\"\n",
    "cloud_data = gremlin_qm.query(q)\n",
    "services += cloud_data\n",
    "    \n",
    "len(services)"
   ]
  },
  {
   "cell_type": "code",
   "execution_count": 41,
   "metadata": {},
   "outputs": [],
   "source": [
    "patterns = []\n",
    "for s in services:\n",
    "    pattern = []\n",
    "    n = s['name']\n",
    "    if '(' in n:\n",
    "        i = n.index('(')\n",
    "        abbr = n[i+1:n.index(')')]\n",
    "        patterns.append({\"label\": \"AWS_SERVICE\", 'pattern': [{'LOWER': abbr.lower()}]})\n",
    "        n = n[:i]\n",
    "    for word in n.split():\n",
    "        pattern.append({'LOWER': word.lower()})\n",
    "    \n",
    "    patterns.append({'label': 'AWS_SERVICE', 'pattern': pattern})\n",
    "    \n",
    "extra_patterns = [\n",
    "    {\"label\": \"AWS_SERVICE\", \"pattern\": [{\"ORTH\": \"EMR\"}]},\n",
    "    {\"label\": \"AWS_SERVICE\", \"pattern\": [{\"LOWER\": \"lambda\"}]},\n",
    "    {\"label\": \"AWS_SERVICE\", \"pattern\": [{\"LOWER\": \"amazon\"}, {\"IS_UPPER\": True}]}\n",
    "]\n",
    "\n",
    "with open('../data/processed/aws_service_patterns.jsonl', 'w+') as service_patterns_file:\n",
    "    for p in patterns + extra_patterns:\n",
    "        service_patterns_file.write(json.dumps(p) + '\\n')"
   ]
  },
  {
   "cell_type": "markdown",
   "metadata": {},
   "source": [
    "## Data"
   ]
  },
  {
   "cell_type": "code",
   "execution_count": 44,
   "metadata": {},
   "outputs": [
    {
     "name": "stdout",
     "output_type": "stream",
     "text": [
      "['/awsdocs/aws-cloudformation-user-guide', '/awsdocs/amazon-ec2-user-guide', '/awsdocs/iam-user-guide', '/awsdocs/amazon-rds-user-guide', '/awsdocs/amazon-eks-user-guide', '/awsdocs/aws-cli-user-guide', '/awsdocs/aws-systems-manager-user-guide', '/awsdocs/amazon-vpc-user-guide', '/awsdocs/amazon-athena-user-guide', '/awsdocs/amazon-cloudwatch-user-guide']\n"
     ]
    }
   ],
   "source": [
    "repo_urls = []\n",
    "for i in range(1, 4):\n",
    "    url = f'https://github.com/awsdocs?language=&page={i}&q=user-guide&type=&utf8=%E2%9C%93'\n",
    "    res = requests.get(url, headers={\"X-Requested-With\": \"XMLHttpRequest\"})\n",
    "    soup = BeautifulSoup(res.text, 'html.parser')\n",
    "    repo_soups = soup.find_all('a', {'itemprop': \"name codeRepository\"})\n",
    "    \n",
    "    for rs in repo_soups:\n",
    "        repo_urls.append(rs['href'])\n",
    "        \n",
    "\n",
    "        \n",
    "print(repo_urls[:10])"
   ]
  },
  {
   "cell_type": "code",
   "execution_count": 52,
   "metadata": {},
   "outputs": [
    {
     "name": "stdout",
     "output_type": "stream",
     "text": [
      "404 Client Error: Not Found for url: https://raw.githubusercontent.com/awsdocs/aws-powershell-user-guide/master/doc_source/index.md\n",
      "404 Client Error: Not Found for url: https://raw.githubusercontent.com/awsdocs/amazon-sumerian-user-guide/master/doc_source/index.md\n",
      "404 Client Error: Not Found for url: https://raw.githubusercontent.com/awsdocs/aws-toolkit-eclipse-user-guide/master/doc_source/index.md\n",
      "404 Client Error: Not Found for url: https://raw.githubusercontent.com/awsdocs/aws-toolkit-visual-studio-user-guide/master/doc_source/index.md\n",
      "404 Client Error: Not Found for url: https://raw.githubusercontent.com/awsdocs/amazon-pinpoint-user-guide/master/doc_source/index.md\n",
      "404 Client Error: Not Found for url: https://raw.githubusercontent.com/awsdocs/aws-xray-developer-guide/master/doc_source/index.md\n",
      "404 Client Error: Not Found for url: https://raw.githubusercontent.com/awsdocs/aws-amplify-console-user-guide/master/doc_source/index.md\n",
      "404 Client Error: Not Found for url: https://raw.githubusercontent.com/awsdocs/amazon-elasticache-docs/master/doc_source/index.md\n",
      "404 Client Error: Not Found for url: https://raw.githubusercontent.com/awsdocs/aws-elemental-mediaconnect-user-guide/master/doc_source/index.md\n",
      "26745\n"
     ]
    }
   ],
   "source": [
    "examples = []\n",
    "for repo_url in repo_urls:\n",
    "    \n",
    "    \n",
    "    try:\n",
    "        url = f\"https://raw.githubusercontent.com{repo_url}/master/doc_source/index.md\"\n",
    "        index_res = requests.get(url)\n",
    "        index_res.raise_for_status()\n",
    "        html = markdown.markdown(index_res.text)\n",
    "        soup = BeautifulSoup(html, 'html.parser')\n",
    "        meta = {\n",
    "            'source': repo_url,\n",
    "            'file': url\n",
    "        }\n",
    "        for a in soup.find_all('a')[:14]:\n",
    "            url = f\"https://raw.githubusercontent.com{repo_url}/master/doc_source/{a['href']}\"\n",
    "            file_res = requests.get(url)\n",
    "            file_res.raise_for_status()\n",
    "            html = markdown.markdown(file_res.text)\n",
    "            soup = BeautifulSoup(html, 'html.parser')\n",
    "            for p in soup.find_all('p') + soup.find_all('h1') + soup.find_all('h2'):\n",
    "                if 'ms.' not in p.text and '|' not in p.text:\n",
    "                    examples.append({'text': ' '.join(p.text.split()).strip(), 'meta': meta})\n",
    "    except Exception as e:\n",
    "        print(e)\n",
    "\n",
    "print(len(examples))"
   ]
  },
  {
   "cell_type": "code",
   "execution_count": 53,
   "metadata": {},
   "outputs": [
    {
     "name": "stdout",
     "output_type": "stream",
     "text": [
      "26745\n"
     ]
    }
   ],
   "source": [
    "print(len(examples))"
   ]
  },
  {
   "cell_type": "code",
   "execution_count": 27,
   "metadata": {},
   "outputs": [],
   "source": [
    "with open('../data/processed/aws_examples.jsonl', 'w+') as examples_file:\n",
    "    for e in examples:\n",
    "        examples_file.write(json.dumps(e) + '\\n')"
   ]
  },
  {
   "cell_type": "code",
   "execution_count": null,
   "metadata": {},
   "outputs": [],
   "source": []
  }
 ],
 "metadata": {
  "kernelspec": {
   "display_name": "Python 3",
   "language": "python",
   "name": "python3"
  },
  "language_info": {
   "codemirror_mode": {
    "name": "ipython",
    "version": 3
   },
   "file_extension": ".py",
   "mimetype": "text/x-python",
   "name": "python",
   "nbconvert_exporter": "python",
   "pygments_lexer": "ipython3",
   "version": "3.6.5"
  }
 },
 "nbformat": 4,
 "nbformat_minor": 2
}
