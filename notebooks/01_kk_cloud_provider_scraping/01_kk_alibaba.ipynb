{
 "cells": [
  {
   "cell_type": "code",
   "execution_count": 2,
   "metadata": {},
   "outputs": [],
   "source": [
    "import requests\n",
    "from bs4 import BeautifulSoup"
   ]
  },
  {
   "cell_type": "code",
   "execution_count": 26,
   "metadata": {},
   "outputs": [
    {
     "name": "stdout",
     "output_type": "stream",
     "text": [
      "https://www.alibabacloud.com/product/hosting\n",
      "https://www.alibabacloud.com/domain\n",
      "https://www.alibabacloud.com/whois\n",
      "https://www.alibabacloud.com/product/apsara-stack\n",
      "101\n"
     ]
    },
    {
     "data": {
      "text/plain": [
       "[{'category_name': 'Elastic Computing',\n",
       "  'category_description': 'Add compute power, load balancing and advanced network capabilities to your applications using these essential Alibaba Cloud products.',\n",
       "  'name': 'Elastic Compute Service',\n",
       "  'link': 'https://www.alibabacloud.com/product/ecs',\n",
       "  'short_description': 'An online computing service that offers elastic and secure virtual cloud servers to cater all your cloud hosting needs.',\n",
       "  'long_description': 'Alibaba Cloud Elastic Compute Service (ECS) provides fast memory and the latest Intel CPUs to help you to power your cloud applications and achieve faster results with low latency. All ECS instances come with Anti-DDoS protection to safeguard your data and applications from DDoS and Trojan attacks.Deploy ECS instances with just a few clicks from the easy-to-use console and scale capacity up or down based on real-time demands. This means you only pay for the resources you use and avoid the need to procure expensive IT infrastructure and hire large network teams.',\n",
       "  'icon': ''},\n",
       " {'category_name': 'Elastic Computing',\n",
       "  'category_description': 'Add compute power, load balancing and advanced network capabilities to your applications using these essential Alibaba Cloud products.',\n",
       "  'name': 'Simple Application Server',\n",
       "  'link': 'https://www.alibabacloud.com/product/swas',\n",
       "  'short_description': 'A single server-based service for application deployment, security management, O&M monitoring, and more',\n",
       "  'long_description': '\\n\\n          Simple Application Server is a new generation computing service for stand-alone application scenarios. It provides one-click application deployment and supports all-in-one services such as domain name resolution, website publishing, security, O&M, and application management. This optimizes the user experience of setting up a simple application and makes it easier for entry-level users to use cloud computing products.\\n        \\n\\n          Download Product Data Sheet to learn more about Simple Application Server.\\n        \\n',\n",
       "  'icon': ''},\n",
       " {'category_name': 'Elastic Computing',\n",
       "  'category_description': 'Add compute power, load balancing and advanced network capabilities to your applications using these essential Alibaba Cloud products.',\n",
       "  'name': 'Elastic GPU Service',\n",
       "  'link': 'https://www.alibabacloud.com/product/gpu',\n",
       "  'short_description': 'Powerful parallel computing capabilities based on GPU technology.',\n",
       "  'long_description': 'Elastic GPU Service (EGS) is a GPU-based computing service ideal for scenarios such as deep learning, video processing, scientific computing, and visualization. EGS solutions use the following GPUs: AMD FirePro S7150, NVIDIA Tesla M40, NVIDIA Tesla P100, NVIDIA Tesla P4, and NVIDIA Tesla V100.',\n",
       "  'icon': ''}]"
      ]
     },
     "execution_count": 26,
     "metadata": {},
     "output_type": "execute_result"
    }
   ],
   "source": [
    "base_url = 'https://www.alibabacloud.com'\n",
    "soup = BeautifulSoup(requests.get(f\"{base_url}/product\").text, 'html.parser')\n",
    "cat_soups = soup.find_all('div', {'class': 'group-item'})\n",
    "\n",
    "alibaba_services = []\n",
    "for c_soup in cat_soups:\n",
    "    cat = c_soup.find('div', {'class': 'group-head'})\n",
    "    cat_name = cat.find('h2').text\n",
    "    cat_desc = cat.find('p').text\n",
    "    \n",
    "    services = c_soup.find('div', {'class': 'group-body'})\n",
    "    for service in services.find_all('li'):\n",
    "        name = service.text.strip()\n",
    "        link = service.find('a')['href']\n",
    "        if not link.startswith('https'):\n",
    "            link = f\"{base_url}/{link}\"\n",
    "            \n",
    "        svc_soup = BeautifulSoup(requests.get(link).text, 'html.parser')\n",
    "        try:\n",
    "            short_desc = svc_soup.find('p', {'class': 'text-thin'}).text.strip()\n",
    "            long_desc = svc_soup.find('div', {'class': 'description'}).text.strip()\n",
    "        except:\n",
    "            print(link)\n",
    "        alibaba_services.append({\n",
    "            'category_name': cat_name,\n",
    "            'category_description': cat_desc,\n",
    "            'name': name,\n",
    "            'link': link,\n",
    "            'short_description': short_desc,\n",
    "            'long_description': long_desc,\n",
    "            'icon': ''\n",
    "        })\n",
    "alibaba_services"
   ]
  },
  {
   "cell_type": "code",
   "execution_count": null,
   "metadata": {},
   "outputs": [],
   "source": []
  }
 ],
 "metadata": {
  "kernelspec": {
   "display_name": "Python 3",
   "language": "python",
   "name": "python3"
  },
  "language_info": {
   "codemirror_mode": {
    "name": "ipython",
    "version": 3
   },
   "file_extension": ".py",
   "mimetype": "text/x-python",
   "name": "python",
   "nbconvert_exporter": "python",
   "pygments_lexer": "ipython3",
   "version": "3.6.5"
  }
 },
 "nbformat": 4,
 "nbformat_minor": 2
}
