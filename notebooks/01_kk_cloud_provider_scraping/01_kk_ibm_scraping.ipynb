{
 "cells": [
  {
   "cell_type": "code",
   "execution_count": 55,
   "metadata": {},
   "outputs": [],
   "source": [
    "import os\n",
    "import requests\n",
    "from bs4 import BeautifulSoup\n",
    "import pandas as pd"
   ]
  },
  {
   "cell_type": "code",
   "execution_count": 56,
   "metadata": {},
   "outputs": [],
   "source": [
    "base_url = 'https://www.ibm.com'"
   ]
  },
  {
   "cell_type": "code",
   "execution_count": 73,
   "metadata": {},
   "outputs": [],
   "source": [
    "res = requests.get(f'{base_url}/cloud/products')\n",
    "base_soup = BeautifulSoup(res.text, 'html.parser')"
   ]
  },
  {
   "cell_type": "code",
   "execution_count": 74,
   "metadata": {},
   "outputs": [],
   "source": [
    "cat_services_mapping_soups = []\n",
    "band_soups = base_soup.find_all('div', {'class': 'ibm-band'}, id=True)\n",
    "i = 0\n",
    "while i < len(band_soups) - 1:\n",
    "    cat_services_mapping_soups.append((band_soups[i], band_soups[i+1]))\n",
    "    i += 2"
   ]
  },
  {
   "cell_type": "code",
   "execution_count": 88,
   "metadata": {},
   "outputs": [
    {
     "name": "stdout",
     "output_type": "stream",
     "text": [
      "Getting service metadata from IBM category:  Compute\n",
      "Getting service metadata from IBM category:  Network\n",
      "Getting service metadata from IBM category:  Storage\n",
      "Getting service metadata from IBM category:  Management\n",
      "https://console.bluemix.net/catalog/services/availability-monitoring\n",
      "https://console.bluemix.net/catalog/services/cloud-automation-manager\n",
      "https://console.bluemix.net/catalog/services/workload-scheduler\n",
      "https://console.bluemix.net/docs/services/Monitoring-with-Sysdig/\n",
      "Getting service metadata from IBM category:  Security\n",
      "Getting service metadata from IBM category:  Databases\n",
      "Getting service metadata from IBM category:  Analytics\n",
      "Getting service metadata from IBM category:  AI\n",
      "https://www.ibm.com/watson/ibm-salesforce/\n",
      "https://www.ibm.com/cloud/watson-knowledge-studio\n",
      "Getting service metadata from IBM category:  IoT\n",
      "https://console.bluemix.net/catalog/services/weather-company-data\n",
      "Getting service metadata from IBM category:  Mobile\n",
      "Getting service metadata from IBM category:  Developer Tools\n",
      "Getting service metadata from IBM category:  Blockchain\n",
      "Getting service metadata from IBM category:  Integration\n",
      "Getting service metadata from IBM category:  Migration\n",
      "Getting service metadata from IBM category:  Private Cloud\n",
      "Getting service metadata from IBM category:  VMware\n"
     ]
    }
   ],
   "source": [
    "ibm_services = []\n",
    "\n",
    "for cat_soup, services_soup in cat_services_mapping_soups:\n",
    "    cat_name = cat_soup.find('h2').text.strip()\n",
    "    cat_desc_soup = cat_soup.find('p')\n",
    "    cat_description = cat_desc_soup.text.strip()\n",
    "\n",
    "    cat_link_soup = cat_desc_soup.find('a')\n",
    "    \n",
    "    if cat_link_soup:\n",
    "        cat_link = f\"{base_url}{cat_link_soup['href']}\"\n",
    "        learn_more_idx = cat_description.index(cat_link_soup.text.strip())\n",
    "        cat_description = cat_description[:learn_more_idx]\n",
    "\n",
    "    \n",
    "    print('Getting service metadata from IBM category: ', cat_name)\n",
    "    \n",
    "    for card_soup in services_soup.find_all('div', {'class': 'ibm-card'}):\n",
    "        service_link_soup = card_soup.find('a')\n",
    "        service_name = service_link_soup.text.strip()\n",
    "\n",
    "        href = service_link_soup['href']\n",
    "        if href.startswith('http'):\n",
    "            print(href)\n",
    "            service_link = href\n",
    "        else:   \n",
    "            service_link = f\"{base_url}{href}\"\n",
    "        \n",
    "        \n",
    "        service_page_soup = BeautifulSoup(requests.get(service_link).text, 'html.parser')\n",
    "        try:\n",
    "            service_short_desc = service_page_soup.find('meta', {'name': 'description'})['content'].strip()\n",
    "        except:\n",
    "            continue\n",
    "        try:\n",
    "            \n",
    "            service_long_desc = service_page_soup.find(\n",
    "                'section', {'class': 'product-overview-summary-section'}\n",
    "            ).text.strip().split('\\n\\n')[-1]\n",
    "        except:\n",
    "            service_long_desc = service_short_desc\n",
    "\n",
    "        ibm_services.append({        \n",
    "            'category_name': cat_name,\n",
    "            'category_description': cat_description,\n",
    "            'category_link': cat_link,\n",
    "            'name': service_name,\n",
    "            'short_description': service_short_desc,\n",
    "            'long_description': service_long_desc,\n",
    "            'uri': service_link\n",
    "        })\n",
    "\n",
    "ibm_df = pd.DataFrame(ibm_services)"
   ]
  },
  {
   "cell_type": "code",
   "execution_count": 89,
   "metadata": {},
   "outputs": [
    {
     "data": {
      "text/html": [
       "<div>\n",
       "<style scoped>\n",
       "    .dataframe tbody tr th:only-of-type {\n",
       "        vertical-align: middle;\n",
       "    }\n",
       "\n",
       "    .dataframe tbody tr th {\n",
       "        vertical-align: top;\n",
       "    }\n",
       "\n",
       "    .dataframe thead th {\n",
       "        text-align: right;\n",
       "    }\n",
       "</style>\n",
       "<table border=\"1\" class=\"dataframe\">\n",
       "  <thead>\n",
       "    <tr style=\"text-align: right;\">\n",
       "      <th></th>\n",
       "      <th>category_description</th>\n",
       "      <th>category_link</th>\n",
       "      <th>category_name</th>\n",
       "      <th>long_description</th>\n",
       "      <th>name</th>\n",
       "      <th>short_description</th>\n",
       "      <th>uri</th>\n",
       "    </tr>\n",
       "  </thead>\n",
       "  <tbody>\n",
       "    <tr>\n",
       "      <th>0</th>\n",
       "      <td>From bare metal servers to serverless compute,...</td>\n",
       "      <td>https://www.ibm.com/cloud/compute</td>\n",
       "      <td>Compute</td>\n",
       "      <td>Bare metal servers provide customers sole acc...</td>\n",
       "      <td>Bare metal servers</td>\n",
       "      <td>Bare metal servers are dedicated, IBM high-per...</td>\n",
       "      <td>https://www.ibm.com/cloud/bare-metal-servers</td>\n",
       "    </tr>\n",
       "    <tr>\n",
       "      <th>1</th>\n",
       "      <td>From bare metal servers to serverless compute,...</td>\n",
       "      <td>https://www.ibm.com/cloud/compute</td>\n",
       "      <td>Compute</td>\n",
       "      <td>When you create a virtual server, you can choo...</td>\n",
       "      <td>Cloud Virtual Servers</td>\n",
       "      <td>IBM Cloud Virtual Servers are public and dedic...</td>\n",
       "      <td>https://www.ibm.com/cloud/virtual-servers</td>\n",
       "    </tr>\n",
       "    <tr>\n",
       "      <th>2</th>\n",
       "      <td>From bare metal servers to serverless compute,...</td>\n",
       "      <td>https://www.ibm.com/cloud/compute</td>\n",
       "      <td>Compute</td>\n",
       "      <td>You know your mission-critical storage needs ...</td>\n",
       "      <td>Mass Storage Servers</td>\n",
       "      <td>Build your own SAN/NAS environments with the c...</td>\n",
       "      <td>https://www.ibm.com/cloud/bare-metal-servers/m...</td>\n",
       "    </tr>\n",
       "    <tr>\n",
       "      <th>3</th>\n",
       "      <td>From bare metal servers to serverless compute,...</td>\n",
       "      <td>https://www.ibm.com/cloud/compute</td>\n",
       "      <td>Compute</td>\n",
       "      <td>IBM bare metal servers are certified by SAP f...</td>\n",
       "      <td>SAP-Certified Infrastructure</td>\n",
       "      <td>IBM IaaS for SAP offers some of the largest an...</td>\n",
       "      <td>https://www.ibm.com/cloud/sap/certified-infras...</td>\n",
       "    </tr>\n",
       "    <tr>\n",
       "      <th>4</th>\n",
       "      <td>From bare metal servers to serverless compute,...</td>\n",
       "      <td>https://www.ibm.com/cloud/compute</td>\n",
       "      <td>Compute</td>\n",
       "      <td>Store and distribute container images in a fu...</td>\n",
       "      <td>Container Registry</td>\n",
       "      <td>IBM Container Registry enables you to store an...</td>\n",
       "      <td>https://www.ibm.com/cloud/container-registry</td>\n",
       "    </tr>\n",
       "  </tbody>\n",
       "</table>\n",
       "</div>"
      ],
      "text/plain": [
       "                                category_description  \\\n",
       "0  From bare metal servers to serverless compute,...   \n",
       "1  From bare metal servers to serverless compute,...   \n",
       "2  From bare metal servers to serverless compute,...   \n",
       "3  From bare metal servers to serverless compute,...   \n",
       "4  From bare metal servers to serverless compute,...   \n",
       "\n",
       "                       category_link category_name  \\\n",
       "0  https://www.ibm.com/cloud/compute       Compute   \n",
       "1  https://www.ibm.com/cloud/compute       Compute   \n",
       "2  https://www.ibm.com/cloud/compute       Compute   \n",
       "3  https://www.ibm.com/cloud/compute       Compute   \n",
       "4  https://www.ibm.com/cloud/compute       Compute   \n",
       "\n",
       "                                    long_description  \\\n",
       "0   Bare metal servers provide customers sole acc...   \n",
       "1  When you create a virtual server, you can choo...   \n",
       "2   You know your mission-critical storage needs ...   \n",
       "3   IBM bare metal servers are certified by SAP f...   \n",
       "4   Store and distribute container images in a fu...   \n",
       "\n",
       "                           name  \\\n",
       "0            Bare metal servers   \n",
       "1         Cloud Virtual Servers   \n",
       "2          Mass Storage Servers   \n",
       "3  SAP-Certified Infrastructure   \n",
       "4            Container Registry   \n",
       "\n",
       "                                   short_description  \\\n",
       "0  Bare metal servers are dedicated, IBM high-per...   \n",
       "1  IBM Cloud Virtual Servers are public and dedic...   \n",
       "2  Build your own SAN/NAS environments with the c...   \n",
       "3  IBM IaaS for SAP offers some of the largest an...   \n",
       "4  IBM Container Registry enables you to store an...   \n",
       "\n",
       "                                                 uri  \n",
       "0       https://www.ibm.com/cloud/bare-metal-servers  \n",
       "1          https://www.ibm.com/cloud/virtual-servers  \n",
       "2  https://www.ibm.com/cloud/bare-metal-servers/m...  \n",
       "3  https://www.ibm.com/cloud/sap/certified-infras...  \n",
       "4       https://www.ibm.com/cloud/container-registry  "
      ]
     },
     "execution_count": 89,
     "metadata": {},
     "output_type": "execute_result"
    }
   ],
   "source": [
    "ibm_df.head()"
   ]
  },
  {
   "cell_type": "code",
   "execution_count": 4,
   "metadata": {},
   "outputs": [],
   "source": [
    "from enum import Enum\n",
    "class Cloud(Enum):\n",
    "    AWS = 'AWS'\n",
    "    AZURE = 'AZURE'\n",
    "    DIGITALOCEAN = 'DIGITALOCEAN'\n",
    "    GOOGLE = 'GOOGLE'\n",
    "    IBM = 'IBM'\n",
    "    ORACLE = 'ORACLE'\n",
    "    "
   ]
  },
  {
   "cell_type": "code",
   "execution_count": 9,
   "metadata": {},
   "outputs": [
    {
     "data": {
      "text/plain": [
       "[<Cloud.AWS: 'AWS'>,\n",
       " <Cloud.AZURE: 'AZURE'>,\n",
       " <Cloud.DIGITALOCEAN: 'DIGITALOCEAN'>,\n",
       " <Cloud.GOOGLE: 'GOOGLE'>,\n",
       " <Cloud.IBM: 'IBM'>,\n",
       " <Cloud.ORACLE: 'ORACLE'>]"
      ]
     },
     "execution_count": 9,
     "metadata": {},
     "output_type": "execute_result"
    }
   ],
   "source": [
    "[c for c in Cloud]"
   ]
  },
  {
   "cell_type": "code",
   "execution_count": null,
   "metadata": {},
   "outputs": [],
   "source": []
  }
 ],
 "metadata": {
  "kernelspec": {
   "display_name": "Python 3",
   "language": "python",
   "name": "python3"
  },
  "language_info": {
   "codemirror_mode": {
    "name": "ipython",
    "version": 3
   },
   "file_extension": ".py",
   "mimetype": "text/x-python",
   "name": "python",
   "nbconvert_exporter": "python",
   "pygments_lexer": "ipython3",
   "version": "3.6.5"
  }
 },
 "nbformat": 4,
 "nbformat_minor": 2
}
