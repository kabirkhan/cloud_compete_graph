{
 "cells": [
  {
   "cell_type": "code",
   "execution_count": 1,
   "metadata": {},
   "outputs": [],
   "source": [
    "import os\n",
    "import json\n",
    "import requests\n",
    "from dotenv import load_dotenv, find_dotenv\n",
    "import spacy"
   ]
  },
  {
   "cell_type": "code",
   "execution_count": 2,
   "metadata": {},
   "outputs": [],
   "source": [
    "load_dotenv(find_dotenv())\n",
    "\n",
    "search_key = os.environ.get('AZURE_SEARCH_KEY')"
   ]
  },
  {
   "cell_type": "code",
   "execution_count": 98,
   "metadata": {},
   "outputs": [],
   "source": [
    "service_cache = {}"
   ]
  },
  {
   "cell_type": "code",
   "execution_count": 3,
   "metadata": {},
   "outputs": [
    {
     "ename": "NameError",
     "evalue": "name 'service_cache' is not defined",
     "output_type": "error",
     "traceback": [
      "\u001b[0;31m---------------------------------------------------------------------------\u001b[0m",
      "\u001b[0;31mNameError\u001b[0m                                 Traceback (most recent call last)",
      "\u001b[0;32m<ipython-input-3-526a22aca758>\u001b[0m in \u001b[0;36m<module>\u001b[0;34m\u001b[0m\n\u001b[1;32m     32\u001b[0m \u001b[0;34m\u001b[0m\u001b[0m\n\u001b[1;32m     33\u001b[0m \u001b[0;34m\u001b[0m\u001b[0m\n\u001b[0;32m---> 34\u001b[0;31m \u001b[0mresolve_service_name\u001b[0m\u001b[0;34m(\u001b[0m\u001b[0;34m'Azure AD'\u001b[0m\u001b[0;34m)\u001b[0m\u001b[0;34m\u001b[0m\u001b[0m\n\u001b[0m",
      "\u001b[0;32m<ipython-input-3-526a22aca758>\u001b[0m in \u001b[0;36mresolve_service_name\u001b[0;34m(name, threshold)\u001b[0m\n\u001b[1;32m      1\u001b[0m \u001b[0;32mdef\u001b[0m \u001b[0mresolve_service_name\u001b[0m\u001b[0;34m(\u001b[0m\u001b[0mname\u001b[0m\u001b[0;34m,\u001b[0m \u001b[0mthreshold\u001b[0m\u001b[0;34m=\u001b[0m\u001b[0;36m0.8\u001b[0m\u001b[0;34m)\u001b[0m\u001b[0;34m:\u001b[0m\u001b[0;34m\u001b[0m\u001b[0m\n\u001b[1;32m      2\u001b[0m \u001b[0;34m\u001b[0m\u001b[0m\n\u001b[0;32m----> 3\u001b[0;31m     \u001b[0;32mif\u001b[0m \u001b[0mname\u001b[0m \u001b[0;32min\u001b[0m \u001b[0mservice_cache\u001b[0m\u001b[0;34m:\u001b[0m\u001b[0;34m\u001b[0m\u001b[0m\n\u001b[0m\u001b[1;32m      4\u001b[0m         \u001b[0mprint\u001b[0m\u001b[0;34m(\u001b[0m\u001b[0;34m'Name in Cache:'\u001b[0m\u001b[0;34m,\u001b[0m \u001b[0mname\u001b[0m\u001b[0;34m)\u001b[0m\u001b[0;34m\u001b[0m\u001b[0m\n\u001b[1;32m      5\u001b[0m         \u001b[0;32mreturn\u001b[0m \u001b[0mservice_cache\u001b[0m\u001b[0;34m[\u001b[0m\u001b[0mname\u001b[0m\u001b[0;34m]\u001b[0m\u001b[0;34m\u001b[0m\u001b[0m\n",
      "\u001b[0;31mNameError\u001b[0m: name 'service_cache' is not defined"
     ]
    }
   ],
   "source": [
    "def resolve_service_name(name, threshold=0.8):\n",
    "    \n",
    "    if name in service_cache:\n",
    "        print('Name in Cache:', name)\n",
    "        return service_cache[name]\n",
    "    \n",
    "    def run_search(search_term):\n",
    "        search_url = f'https://ccg.search.windows.net/indexes/services-v0/docs'\n",
    "        params = {\n",
    "            'api-version': '2017-11-11-preview',\n",
    "            'search': search_term,\n",
    "            '$top': 3,\n",
    "            'scoringProfile': 'boostName',\n",
    "#             '$filter': \"cloud eq 'Microsoft Azure'\"\n",
    "    #         'searchFields': ['name', 'shortDescription']\n",
    "        }\n",
    "        headers = {\n",
    "            'api-key': search_key\n",
    "        }\n",
    "        res = requests.get(search_url, headers=headers, params=params)\n",
    "        return res\n",
    "\n",
    "    res = run_search(name)\n",
    "    if res.status_code == 200:  \n",
    "        top_res = res.json()['value'][0]\n",
    "#         print(top_res)\n",
    "        if top_res['@search.score'] > 0.8:                \n",
    "            service_cache[name] = top_res\n",
    "            return service_cache[name]\n",
    "    else:\n",
    "        return res.text\n",
    "            \n",
    "    \n",
    "resolve_service_name('Azure AD')"
   ]
  },
  {
   "cell_type": "code",
   "execution_count": 5,
   "metadata": {},
   "outputs": [
    {
     "data": {
      "text/plain": [
       "'{\"@odata.context\":\"https://ccg.search.windows.net/indexes(\\'services-v0\\')/$metadata#docs(*)\",\"value\":[]}'"
      ]
     },
     "execution_count": 5,
     "metadata": {},
     "output_type": "execute_result"
    }
   ],
   "source": [
    "def run_search(search_term):\n",
    "    search_url = f'https://ccg.search.windows.net/indexes/services-v0/docs/suggest'\n",
    "    params = {\n",
    "        'api-version': '2017-11-11-preview',\n",
    "        'search': search_term,\n",
    "        '$top': 3,\n",
    "        'scoringProfile': 'boostName',\n",
    "#         'autocompleteMode': 'twoTerms',\n",
    "        'suggesterName': 'suggest-name',\n",
    "        'fuzzy': True\n",
    "#             '$filter': \"cloud eq 'Microsoft Azure'\"\n",
    "#         'searchFields': ['name', 'shortDescription']\n",
    "    }\n",
    "    headers = {\n",
    "        'api-key': search_key\n",
    "    }\n",
    "    res = requests.get(search_url, headers=headers, params=params)\n",
    "    return res\n",
    "\n",
    "run_search('asdf;lkasdfj').text"
   ]
  },
  {
   "cell_type": "code",
   "execution_count": 77,
   "metadata": {},
   "outputs": [
    {
     "data": {
      "text/plain": [
       "{}"
      ]
     },
     "execution_count": 77,
     "metadata": {},
     "output_type": "execute_result"
    }
   ],
   "source": [
    "service_cache"
   ]
  },
  {
   "cell_type": "code",
   "execution_count": 30,
   "metadata": {},
   "outputs": [],
   "source": [
    "nlp = spacy.load('models/ner_azure_v0/')"
   ]
  },
  {
   "cell_type": "code",
   "execution_count": null,
   "metadata": {},
   "outputs": [],
   "source": []
  },
  {
   "cell_type": "code",
   "execution_count": 100,
   "metadata": {},
   "outputs": [
    {
     "name": "stdout",
     "output_type": "stream",
     "text": [
      "Azure Advisor resolved to: Azure Advisor\n",
      "=======================================\n",
      "=======================================\n",
      "=======================================\n",
      "=======================================\n",
      "Name in Cache: Azure Advisor\n",
      "Azure Advisor resolved to: Azure Advisor\n",
      "=======================================\n",
      "REST is not an Azure service\n",
      "=======================================\n",
      "=======================================\n",
      "Name in Cache: Azure Advisor\n",
      "Azure Advisor resolved to: Azure Advisor\n",
      "=======================================\n",
      "=======================================\n",
      "=======================================\n",
      "Azure Analysis Services resolved to: Azure Analysis Services\n",
      "=======================================\n",
      "=======================================\n",
      "Name in Cache: Azure Analysis Services\n",
      "Azure Analysis Services resolved to: Azure Analysis Services\n",
      "Name in Cache: Azure Analysis Services\n",
      "Azure Analysis Services resolved to: Azure Analysis Services\n",
      "=======================================\n",
      "Azure Resource Manager resolved to: Azure Resource Manager\n",
      "Azure Functions resolved to: Azure Functions\n",
      "=======================================\n",
      "Azure Automation resolved to: Azure Automation\n",
      "=======================================\n",
      "Name in Cache: Azure Analysis Services\n",
      "Azure Analysis Services resolved to: Azure Analysis Services\n",
      "Azure Active Directory resolved to: Azure Active Directory\n",
      "Azure Data Factory resolved to: Azure Data Factory\n",
      "Name in Cache: Azure Automation\n",
      "Azure Automation resolved to: Azure Automation\n",
      "Name in Cache: Azure Functions\n",
      "Azure Functions resolved to: Azure Functions\n",
      "=======================================\n",
      "Name in Cache: Azure Analysis Services\n",
      "Azure Analysis Services resolved to: Azure Analysis Services\n",
      "=======================================\n",
      "=======================================\n",
      "=======================================\n",
      "=======================================\n"
     ]
    }
   ],
   "source": [
    "with open('data/processed/azure_examples.jsonl') as az_ex_file:\n",
    "    for line in az_ex_file.readlines()[100:120]:\n",
    "        text = json.loads(line)['text']\n",
    "        doc = nlp(text)\n",
    "        for ent in doc.ents:\n",
    "            s = resolve_service_name(ent.text)\n",
    "            if s:\n",
    "                print(ent.text, 'resolved to:', s['name'])\n",
    "            else:\n",
    "                print(ent.text, 'is not an Azure service')\n",
    "        print('=======================================')\n",
    "        \n"
   ]
  },
  {
   "cell_type": "code",
   "execution_count": null,
   "metadata": {},
   "outputs": [],
   "source": []
  }
 ],
 "metadata": {
  "kernelspec": {
   "display_name": "Python 3",
   "language": "python",
   "name": "python3"
  },
  "language_info": {
   "codemirror_mode": {
    "name": "ipython",
    "version": 3
   },
   "file_extension": ".py",
   "mimetype": "text/x-python",
   "name": "python",
   "nbconvert_exporter": "python",
   "pygments_lexer": "ipython3",
   "version": "3.6.5"
  }
 },
 "nbformat": 4,
 "nbformat_minor": 2
}
