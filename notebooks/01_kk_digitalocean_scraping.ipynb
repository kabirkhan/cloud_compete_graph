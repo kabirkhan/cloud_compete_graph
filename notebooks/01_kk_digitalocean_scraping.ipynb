{
 "cells": [
  {
   "cell_type": "code",
   "execution_count": 4,
   "metadata": {},
   "outputs": [],
   "source": [
    "import requests\n",
    "from bs4 import BeautifulSoup\n",
    "import pandas as pd"
   ]
  },
  {
   "cell_type": "code",
   "execution_count": 5,
   "metadata": {},
   "outputs": [],
   "source": [
    "base_url = 'https://www.digitalocean.com/'"
   ]
  },
  {
   "cell_type": "code",
   "execution_count": 30,
   "metadata": {},
   "outputs": [
    {
     "name": "stdout",
     "output_type": "stream",
     "text": [
      "Droplets\n",
      "Spaces\n",
      "Kubernetes\n",
      "Load Balancers\n",
      "Block Storage\n",
      "One-Click Apps\n"
     ]
    },
    {
     "data": {
      "text/html": [
       "<div>\n",
       "<style scoped>\n",
       "    .dataframe tbody tr th:only-of-type {\n",
       "        vertical-align: middle;\n",
       "    }\n",
       "\n",
       "    .dataframe tbody tr th {\n",
       "        vertical-align: top;\n",
       "    }\n",
       "\n",
       "    .dataframe thead th {\n",
       "        text-align: right;\n",
       "    }\n",
       "</style>\n",
       "<table border=\"1\" class=\"dataframe\">\n",
       "  <thead>\n",
       "    <tr style=\"text-align: right;\">\n",
       "      <th></th>\n",
       "      <th>category_name</th>\n",
       "      <th>long_description</th>\n",
       "      <th>name</th>\n",
       "      <th>short_description</th>\n",
       "      <th>uri</th>\n",
       "    </tr>\n",
       "  </thead>\n",
       "  <tbody>\n",
       "    <tr>\n",
       "      <th>0</th>\n",
       "      <td>Compute</td>\n",
       "      <td>More than just virtual machines. Droplets are ...</td>\n",
       "      <td>Droplets</td>\n",
       "      <td>Scalable compute services.</td>\n",
       "      <td>https://www.digitalocean.com/products/droplets/</td>\n",
       "    </tr>\n",
       "    <tr>\n",
       "      <th>1</th>\n",
       "      <td>Compute</td>\n",
       "      <td>S3-compatible object storage with a built-in C...</td>\n",
       "      <td>Spaces</td>\n",
       "      <td>Simple object storage.</td>\n",
       "      <td>https://www.digitalocean.com/products/spaces/</td>\n",
       "    </tr>\n",
       "    <tr>\n",
       "      <th>2</th>\n",
       "      <td>Compute</td>\n",
       "      <td>Managed Kubernetes designed for simple and cos...</td>\n",
       "      <td>Kubernetes</td>\n",
       "      <td>Run managed Kubernetes clusters.</td>\n",
       "      <td>https://www.digitalocean.com/products/kubernetes/</td>\n",
       "    </tr>\n",
       "    <tr>\n",
       "      <th>3</th>\n",
       "      <td>Compute</td>\n",
       "      <td>Scale your applications and improve availabili...</td>\n",
       "      <td>Load Balancers</td>\n",
       "      <td>Easily distribute traffic.</td>\n",
       "      <td>https://www.digitalocean.com/products/load-bal...</td>\n",
       "    </tr>\n",
       "    <tr>\n",
       "      <th>4</th>\n",
       "      <td>Compute</td>\n",
       "      <td>Attach highly available and scalable SSD-based...</td>\n",
       "      <td>Block Storage</td>\n",
       "      <td>Attach scalable volumes.</td>\n",
       "      <td>https://www.digitalocean.com/products/block-st...</td>\n",
       "    </tr>\n",
       "    <tr>\n",
       "      <th>5</th>\n",
       "      <td>Compute</td>\n",
       "      <td>Skip the installation and configuration, get s...</td>\n",
       "      <td>One-Click Apps</td>\n",
       "      <td>Deploy pre-built applications.</td>\n",
       "      <td>https://www.digitalocean.com/products/one-clic...</td>\n",
       "    </tr>\n",
       "  </tbody>\n",
       "</table>\n",
       "</div>"
      ],
      "text/plain": [
       "  category_name                                   long_description  \\\n",
       "0       Compute  More than just virtual machines. Droplets are ...   \n",
       "1       Compute  S3-compatible object storage with a built-in C...   \n",
       "2       Compute  Managed Kubernetes designed for simple and cos...   \n",
       "3       Compute  Scale your applications and improve availabili...   \n",
       "4       Compute  Attach highly available and scalable SSD-based...   \n",
       "5       Compute  Skip the installation and configuration, get s...   \n",
       "\n",
       "             name                 short_description  \\\n",
       "0        Droplets        Scalable compute services.   \n",
       "1          Spaces            Simple object storage.   \n",
       "2      Kubernetes  Run managed Kubernetes clusters.   \n",
       "3  Load Balancers        Easily distribute traffic.   \n",
       "4   Block Storage          Attach scalable volumes.   \n",
       "5  One-Click Apps    Deploy pre-built applications.   \n",
       "\n",
       "                                                 uri  \n",
       "0    https://www.digitalocean.com/products/droplets/  \n",
       "1      https://www.digitalocean.com/products/spaces/  \n",
       "2  https://www.digitalocean.com/products/kubernetes/  \n",
       "3  https://www.digitalocean.com/products/load-bal...  \n",
       "4  https://www.digitalocean.com/products/block-st...  \n",
       "5  https://www.digitalocean.com/products/one-clic...  "
      ]
     },
     "execution_count": 30,
     "metadata": {},
     "output_type": "execute_result"
    }
   ],
   "source": [
    "base_soup = BeautifulSoup(requests.get(base_url).text, 'html.parser')\n",
    "\n",
    "digiocean_services = []\n",
    "for service_soup in base_soup.find('ul', {'class': 'UnifiedNav-list'}).find_all('li')[1].find_all('li'):\n",
    "    service_name_soup = service_soup.find('p', {'class': 'UnifiedNavDropdown-link-contentTitle'})\n",
    "    if not service_name_soup:\n",
    "        continue\n",
    "    service_name = service_name_soup.text.strip()\n",
    "    print(service_name)\n",
    "    service_desc = service_soup.find('p', {'class': 'UnifiedNavDropdown-link-contentDescription'}).text.strip()\n",
    "    service_link = service_soup.find('a')['href']\n",
    "    \n",
    "    service_page_soup = BeautifulSoup(requests.get(service_link).text, 'html.parser')\n",
    "    service_header_soup = service_page_soup.find('div', {'class': 'www-Container'})\n",
    "    if len(service_header_soup.find_all('p')) == 1:\n",
    "        service_long_desc = service_header_soup.find('p').text.strip()\n",
    "    else:\n",
    "        \n",
    "        service_long_desc = service_header_soup.find('p', {'class': 'www-u-FontSize--large'}).text.strip()\n",
    "    \n",
    "    digiocean_services.append({\n",
    "        'category_name': 'Compute',\n",
    "        'name': service_name,\n",
    "        'short_description': service_desc,\n",
    "        'long_description': service_long_desc,\n",
    "        'uri': service_link\n",
    "    })\n",
    "\n",
    "digiocean_df = pd.DataFrame(digiocean_services)\n",
    "digiocean_df"
   ]
  },
  {
   "cell_type": "code",
   "execution_count": 26,
   "metadata": {},
   "outputs": [
    {
     "data": {
      "text/plain": [
       "0    More than just virtual machines. Droplets are ...\n",
       "1                                Spaces Object Storage\n",
       "2                              DigitalOcean Kubernetes\n",
       "3    Scale your applications and improve availabili...\n",
       "4    Attach highly available and scalable SSD-based...\n",
       "5    Skip the installation and configuration, get s...\n",
       "Name: long_description, dtype: object"
      ]
     },
     "execution_count": 26,
     "metadata": {},
     "output_type": "execute_result"
    }
   ],
   "source": [
    "digiocean_df['long_description']"
   ]
  },
  {
   "cell_type": "code",
   "execution_count": null,
   "metadata": {},
   "outputs": [],
   "source": []
  }
 ],
 "metadata": {
  "kernelspec": {
   "display_name": "Python 3",
   "language": "python",
   "name": "python3"
  },
  "language_info": {
   "codemirror_mode": {
    "name": "ipython",
    "version": 3
   },
   "file_extension": ".py",
   "mimetype": "text/x-python",
   "name": "python",
   "nbconvert_exporter": "python",
   "pygments_lexer": "ipython3",
   "version": "3.6.5"
  }
 },
 "nbformat": 4,
 "nbformat_minor": 2
}
