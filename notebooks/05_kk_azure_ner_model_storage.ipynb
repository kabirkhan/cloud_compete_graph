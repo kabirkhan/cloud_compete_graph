{
 "cells": [
  {
   "cell_type": "code",
   "execution_count": 39,
   "metadata": {},
   "outputs": [],
   "source": [
    "import os\n",
    "from pathlib import Path\n",
    "from dotenv import load_dotenv, find_dotenv\n",
    "import spacy\n",
    "from azure.storage.common import CloudStorageAccount\n",
    "from azure.storage.file import FileService\n",
    "from azure.storage.blob import BlockBlobService\n",
    "from src.data.cosmos import DocumentQueryManager, GremlinQueryManager\n",
    "from src.data.graph.gremlin import GremlinQueryBuilder\n",
    "\n",
    "\n",
    "load_dotenv(find_dotenv())\n",
    "\n",
    "account_name = os.environ.get('COSMOS_ACCOUNT_NAME')\n",
    "db_name = os.environ.get('COSMOS_DB_NAME')\n",
    "graph_name = os.environ.get('COSMOS_GRAPH_NAME')\n",
    "master_key = os.environ.get('COSMOS_MASTER_KEY')\n",
    "search_account_name = os.environ.get('ACCOUNT_NAME')\n",
    "search_api_key = os.environ.get('AZURE_SEARCH_KEY')\n",
    "storage_account_name = os.environ.get('AZURE_STORAGE_ACCOUNT_NAME')\n",
    "storage_key = os.environ.get('AZURE_STORAGE_KEY')"
   ]
  },
  {
   "cell_type": "code",
   "execution_count": 40,
   "metadata": {},
   "outputs": [
    {
     "name": "stdout",
     "output_type": "stream",
     "text": [
      "ccgmlmodels\n",
      "W+3igZwF26S3LFW/k0/tNxD37PNlnY+zWZx+CXrShg/alZ1V8Wi1TTrjJcBdc6myq6UgUpQSOHfZhfdEvCXYZA==\n"
     ]
    }
   ],
   "source": [
    "print(storage_account_name)\n",
    "print(storage_key)"
   ]
  },
  {
   "cell_type": "code",
   "execution_count": 65,
   "metadata": {},
   "outputs": [],
   "source": [
    "blob_service = BlockBlobService('ccgmlmodels', sas_token='?sv=2018-03-28&ss=b&srt=sco&sp=rl&se=2019-01-31T04:49:30Z&st=2019-01-30T20:49:30Z&spr=https,http&sig=qSK%2FopwO9LHzndK9pHNuxnYsh2aU%2BHkHSvDQy7XMMU4%3D')"
   ]
  },
  {
   "cell_type": "code",
   "execution_count": 47,
   "metadata": {},
   "outputs": [
    {
     "data": {
      "text/plain": [
       "True"
      ]
     },
     "execution_count": 47,
     "metadata": {},
     "output_type": "execute_result"
    }
   ],
   "source": [
    "p = Path('./models')\n",
    "p.di()"
   ]
  },
  {
   "cell_type": "code",
   "execution_count": 63,
   "metadata": {},
   "outputs": [
    {
     "data": {
      "text/plain": [
       "['ner_azure_v0/evaluation.jsonl',\n",
       " 'ner_azure_v0/meta.json',\n",
       " 'ner_azure_v0/ner/cfg',\n",
       " 'ner_azure_v0/ner/lower_model',\n",
       " 'ner_azure_v0/ner/moves',\n",
       " 'ner_azure_v0/ner/tok2vec_model',\n",
       " 'ner_azure_v0/ner/upper_model',\n",
       " 'ner_azure_v0/parser/cfg',\n",
       " 'ner_azure_v0/parser/lower_model',\n",
       " 'ner_azure_v0/parser/moves',\n",
       " 'ner_azure_v0/parser/tok2vec_model',\n",
       " 'ner_azure_v0/parser/upper_model',\n",
       " 'ner_azure_v0/tagger/cfg',\n",
       " 'ner_azure_v0/tagger/model',\n",
       " 'ner_azure_v0/tagger/tag_map',\n",
       " 'ner_azure_v0/tokenizer',\n",
       " 'ner_azure_v0/training.jsonl',\n",
       " 'ner_azure_v0/vocab/key2row',\n",
       " 'ner_azure_v0/vocab/lexemes.bin',\n",
       " 'ner_azure_v0/vocab/strings.json',\n",
       " 'ner_azure_v0/vocab/vectors']"
      ]
     },
     "execution_count": 63,
     "metadata": {},
     "output_type": "execute_result"
    }
   ],
   "source": [
    "[b.name for b in blob_service.list_blobs('ner')]"
   ]
  },
  {
   "cell_type": "code",
   "execution_count": 64,
   "metadata": {},
   "outputs": [
    {
     "name": "stdout",
     "output_type": "stream",
     "text": [
      "ner_azure_v0/evaluation.jsonl\n",
      "ner_azure_v0/meta.json\n",
      "ner_azure_v0/ner/cfg\n",
      "ner_azure_v0/ner/lower_model\n",
      "ner_azure_v0/ner/moves\n",
      "ner_azure_v0/ner/tok2vec_model\n",
      "ner_azure_v0/ner/upper_model\n",
      "ner_azure_v0/parser/cfg\n",
      "ner_azure_v0/parser/lower_model\n",
      "ner_azure_v0/parser/moves\n",
      "ner_azure_v0/parser/tok2vec_model\n",
      "ner_azure_v0/parser/upper_model\n",
      "ner_azure_v0/tagger/cfg\n",
      "ner_azure_v0/tagger/model\n",
      "ner_azure_v0/tagger/tag_map\n",
      "ner_azure_v0/tokenizer\n",
      "ner_azure_v0/training.jsonl\n",
      "ner_azure_v0/vocab/key2row\n",
      "ner_azure_v0/vocab/lexemes.bin\n",
      "ner_azure_v0/vocab/strings.json\n",
      "ner_azure_v0/vocab/vectors\n"
     ]
    }
   ],
   "source": [
    "for blob in blob_service.list_blobs('ner'):\n",
    "    print(blob.name)\n",
    "    path = f'models/{blob.name}'   \n",
    "    os.makedirs(os.path.dirname(path), exist_ok=True)\n",
    "    blob_service.get_blob_to_path('ner', blob.name, file_path=str(path))"
   ]
  },
  {
   "cell_type": "code",
   "execution_count": null,
   "metadata": {},
   "outputs": [],
   "source": []
  }
 ],
 "metadata": {
  "kernelspec": {
   "display_name": "Python 3",
   "language": "python",
   "name": "python3"
  },
  "language_info": {
   "codemirror_mode": {
    "name": "ipython",
    "version": 3
   },
   "file_extension": ".py",
   "mimetype": "text/x-python",
   "name": "python",
   "nbconvert_exporter": "python",
   "pygments_lexer": "ipython3",
   "version": "3.6.5"
  }
 },
 "nbformat": 4,
 "nbformat_minor": 2
}
