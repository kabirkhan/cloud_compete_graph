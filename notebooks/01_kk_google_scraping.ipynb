{
 "cells": [
  {
   "cell_type": "code",
   "execution_count": 68,
   "metadata": {},
   "outputs": [],
   "source": [
    "import requests\n",
    "from bs4 import BeautifulSoup\n",
    "from urllib.parse import urlparse\n",
    "import pandas as pd"
   ]
  },
  {
   "cell_type": "code",
   "execution_count": 2,
   "metadata": {},
   "outputs": [],
   "source": [
    "GOOGLE_BASE_URL = 'https://cloud.google.com/products'"
   ]
  },
  {
   "cell_type": "code",
   "execution_count": 3,
   "metadata": {},
   "outputs": [],
   "source": [
    "soup = BeautifulSoup(requests.get(GOOGLE_BASE_URL).text, 'html.parser')"
   ]
  },
  {
   "cell_type": "code",
   "execution_count": null,
   "metadata": {},
   "outputs": [],
   "source": [
    "category_soups = soup.find_all('div', {'class': 'cloud-product-card'})"
   ]
  },
  {
   "cell_type": "code",
   "execution_count": 71,
   "metadata": {},
   "outputs": [],
   "source": [
    "services = []\n",
    "\n",
    "for cat_soup in category_soups:\n",
    "    cat_icon = cat_soup.find('svg')\n",
    "    cat_title = cat_soup.find('a').text.strip()\n",
    "    if 'arrow_forward' in cat_title:\n",
    "        cat_title = cat_title[:cat_title.index('arrow_forward') - 1]\n",
    "    \n",
    "    headlines = cat_soup.find_all('a', {'class': 'cloud-product-card__headline'})\n",
    "    sub_headlines = cat_soup.find_all('div', {'class': 'cloud-product-card__sub-headline'})\n",
    "    \n",
    "    \n",
    "    for i in range(len(headlines)):\n",
    "        link = headlines[i]['href']\n",
    "        service = {\n",
    "            'category_name': cat_title,\n",
    "            'name': headlines[i].text.strip(),\n",
    "            'short_description': sub_headlines[i].text.strip(),\n",
    "            'long_description': '',\n",
    "            'link': headlines[i]['href'],\n",
    "            'icon': ''\n",
    "        }\n",
    "\n",
    "        if urlparse(link).netloc == 'cloud.google.com':\n",
    "            \n",
    "            service_soup = BeautifulSoup(requests.get(link).text, 'html.parser')\n",
    "            \n",
    "            try:\n",
    "                service['long_description'] = service_soup.find('meta', {'property': 'og:description'})['content'].strip()\n",
    "\n",
    "                article_soup = service_soup.find('article', {'id': 'cloud-site'})\n",
    "                try_free_button_soup = article_soup.find('a')\n",
    "                icon_class = try_free_button_soup['class'][-1]\n",
    "                service['icon'] = f\"{GOOGLE_BASE_URL}/_static/images/cloud/products/logos/svg/{icon_class}-icon.svg\"\n",
    "            except:\n",
    "                continue\n",
    "        \n",
    "        services.append(service)"
   ]
  },
  {
   "cell_type": "code",
   "execution_count": 72,
   "metadata": {},
   "outputs": [
    {
     "data": {
      "text/html": [
       "<div>\n",
       "<style scoped>\n",
       "    .dataframe tbody tr th:only-of-type {\n",
       "        vertical-align: middle;\n",
       "    }\n",
       "\n",
       "    .dataframe tbody tr th {\n",
       "        vertical-align: top;\n",
       "    }\n",
       "\n",
       "    .dataframe thead th {\n",
       "        text-align: right;\n",
       "    }\n",
       "</style>\n",
       "<table border=\"1\" class=\"dataframe\">\n",
       "  <thead>\n",
       "    <tr style=\"text-align: right;\">\n",
       "      <th></th>\n",
       "      <th>category_name</th>\n",
       "      <th>icon</th>\n",
       "      <th>link</th>\n",
       "      <th>long_description</th>\n",
       "      <th>name</th>\n",
       "      <th>short_description</th>\n",
       "    </tr>\n",
       "  </thead>\n",
       "  <tbody>\n",
       "    <tr>\n",
       "      <th>0</th>\n",
       "      <td>Compute</td>\n",
       "      <td>https://cloud.google.com/products/_static/imag...</td>\n",
       "      <td>https://cloud.google.com/compute/</td>\n",
       "      <td>Google Compute Engine offers high performance ...</td>\n",
       "      <td>Compute Engine</td>\n",
       "      <td>Scalable, high performance VMs.</td>\n",
       "    </tr>\n",
       "    <tr>\n",
       "      <th>1</th>\n",
       "      <td>Compute</td>\n",
       "      <td>https://cloud.google.com/products/_static/imag...</td>\n",
       "      <td>https://cloud.google.com/appengine/</td>\n",
       "      <td>Google App Engine lets developers build scalab...</td>\n",
       "      <td>App Engine</td>\n",
       "      <td>Serverless application platform for apps and b...</td>\n",
       "    </tr>\n",
       "    <tr>\n",
       "      <th>2</th>\n",
       "      <td>Compute</td>\n",
       "      <td>https://cloud.google.com/products/_static/imag...</td>\n",
       "      <td>https://cloud.google.com/kubernetes-engine/</td>\n",
       "      <td>Google Kubernetes Engine is a powerful cluster...</td>\n",
       "      <td>Kubernetes Engine</td>\n",
       "      <td>Run containerized applications.</td>\n",
       "    </tr>\n",
       "    <tr>\n",
       "      <th>3</th>\n",
       "      <td>Compute</td>\n",
       "      <td>https://cloud.google.com/products/_static/imag...</td>\n",
       "      <td>https://cloud.google.com/gke-on-prem/</td>\n",
       "      <td>GKE On-Prem will provision and manage the unde...</td>\n",
       "      <td>GKE On-Prem</td>\n",
       "      <td>Make apps “cloud-ready” and move them to the c...</td>\n",
       "    </tr>\n",
       "    <tr>\n",
       "      <th>4</th>\n",
       "      <td>Compute</td>\n",
       "      <td>https://cloud.google.com/products/_static/imag...</td>\n",
       "      <td>https://cloud.google.com/functions/</td>\n",
       "      <td>Google Cloud Functions makes it easy for devel...</td>\n",
       "      <td>Cloud Functions</td>\n",
       "      <td>Event-driven serverless compute platform.</td>\n",
       "    </tr>\n",
       "  </tbody>\n",
       "</table>\n",
       "</div>"
      ],
      "text/plain": [
       "  category_name                                               icon  \\\n",
       "0       Compute  https://cloud.google.com/products/_static/imag...   \n",
       "1       Compute  https://cloud.google.com/products/_static/imag...   \n",
       "2       Compute  https://cloud.google.com/products/_static/imag...   \n",
       "3       Compute  https://cloud.google.com/products/_static/imag...   \n",
       "4       Compute  https://cloud.google.com/products/_static/imag...   \n",
       "\n",
       "                                          link  \\\n",
       "0            https://cloud.google.com/compute/   \n",
       "1          https://cloud.google.com/appengine/   \n",
       "2  https://cloud.google.com/kubernetes-engine/   \n",
       "3        https://cloud.google.com/gke-on-prem/   \n",
       "4          https://cloud.google.com/functions/   \n",
       "\n",
       "                                    long_description               name  \\\n",
       "0  Google Compute Engine offers high performance ...     Compute Engine   \n",
       "1  Google App Engine lets developers build scalab...         App Engine   \n",
       "2  Google Kubernetes Engine is a powerful cluster...  Kubernetes Engine   \n",
       "3  GKE On-Prem will provision and manage the unde...        GKE On-Prem   \n",
       "4  Google Cloud Functions makes it easy for devel...    Cloud Functions   \n",
       "\n",
       "                                   short_description  \n",
       "0                    Scalable, high performance VMs.  \n",
       "1  Serverless application platform for apps and b...  \n",
       "2                    Run containerized applications.  \n",
       "3  Make apps “cloud-ready” and move them to the c...  \n",
       "4          Event-driven serverless compute platform.  "
      ]
     },
     "execution_count": 72,
     "metadata": {},
     "output_type": "execute_result"
    }
   ],
   "source": [
    "google_services_df = pd.DataFrame(services)\n",
    "google_services_df.head()"
   ]
  },
  {
   "cell_type": "code",
   "execution_count": 75,
   "metadata": {},
   "outputs": [],
   "source": [
    "google_services_df.to_csv('../data/raw/google_services.csv', index=False)"
   ]
  },
  {
   "cell_type": "code",
   "execution_count": null,
   "metadata": {},
   "outputs": [],
   "source": []
  }
 ],
 "metadata": {
  "kernelspec": {
   "display_name": "Python 3",
   "language": "python",
   "name": "python3"
  },
  "language_info": {
   "codemirror_mode": {
    "name": "ipython",
    "version": 3
   },
   "file_extension": ".py",
   "mimetype": "text/x-python",
   "name": "python",
   "nbconvert_exporter": "python",
   "pygments_lexer": "ipython3",
   "version": "3.6.5"
  }
 },
 "nbformat": 4,
 "nbformat_minor": 2
}
